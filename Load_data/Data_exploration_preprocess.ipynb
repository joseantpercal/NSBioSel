{
 "cells": [
  {
   "cell_type": "markdown",
   "metadata": {},
   "source": [
    "# Notebook de exploración y preprocesado de los datos"
   ]
  },
  {
   "cell_type": "markdown",
   "metadata": {},
   "source": [
    "En este notebook hacemos una exploración más exhaustiva de los datos realizando un preprocesamiento inicial con una primera preselcción y generación de datasets de train y test."
   ]
  },
  {
   "cell_type": "markdown",
   "metadata": {},
   "source": [
    "\n",
    "## Data exploration"
   ]
  },
  {
   "cell_type": "markdown",
   "metadata": {},
   "source": [
    "## Libreries"
   ]
  },
  {
   "cell_type": "code",
   "execution_count": 1,
   "metadata": {},
   "outputs": [],
   "source": [
    "import pandas as pd\n",
    "import scanpy as sc\n",
    "from anndata import AnnData"
   ]
  },
  {
   "cell_type": "markdown",
   "metadata": {},
   "source": [
    "## Load data"
   ]
  },
  {
   "cell_type": "code",
   "execution_count": 9,
   "metadata": {},
   "outputs": [],
   "source": [
    "#data_folder = \"demo data/\"\n",
    "#adata = sc.read_h5ad(data_folder + \"adata_layer1.h5ad\") #<---\n",
    "adata_conway = sc.read_h5ad(\"/home/a/Escritorio/TFM/src/NSForest/data/Conway20.h5ad\")\n",
    "adata_dumas = sc.read_h5ad(\"/home/a/Escritorio/TFM/src/NSForest/data/Dumas20.h5ad\")\n",
    "adata_hinze = sc.read_h5ad(\"/home/a/Escritorio/TFM/src/NSForest/data/Hinze20.h5ad\")\n",
    "adata_janosevic = sc.read_h5ad(\"/home/a/Escritorio/TFM/src/NSForest/data/Janosevic21.h5ad\")\n",
    "adata_kirita = sc.read_h5ad(\"/home/a/Escritorio/TFM/src/NSForest/data/Kirita20.h5ad\")\n",
    "adata_miao = sc.read_h5ad(\"/home/a/Escritorio/TFM/src/NSForest/data/Miao21.h5ad\")\n",
    "adata_park = sc.read_h5ad(\"/home/a/Escritorio/TFM/src/NSForest/data/Park18.h5ad\")\n",
    "adata_wu = sc.read_h5ad(\"/home/a/Escritorio/TFM/src/NSForest/data/Wu19.h5ad\")"
   ]
  },
  {
   "cell_type": "code",
   "execution_count": 7,
   "metadata": {},
   "outputs": [
    {
     "data": {
      "text/plain": [
       "AnnData object with n_obs × n_vars = 97445 × 16653\n",
       "    obs: 'Origin', 'suspension_type', 'n_genes', 'n_genes_by_counts', 'log1p_n_genes_by_counts', 'total_counts', 'log1p_total_counts', 'total_counts_mt', 'log1p_total_counts_mt', 'pct_counts_mt', 'total_counts_ribo', 'log1p_total_counts_ribo', 'pct_counts_ribo', 'total_counts_hb', 'log1p_total_counts_hb', 'pct_counts_hb', 'author_cell_type', 'disease_ontology_term_id', 'self_reported_ethnicity_ontology_term_id', 'cell_type_ontology_term_id', 'organism_ontology_term_id', 'sex_ontology_term_id', 'is_primary_data', 'development_stage_ontology_term_id', 'tissue_ontology_term_id', 'assay_ontology_term_id', 'donor_id', 'cell_type', 'assay', 'disease', 'organism', 'sex', 'tissue', 'self_reported_ethnicity', 'development_stage', 'batch'\n",
       "    var: 'feature_is_filtered', 'feature_name', 'feature_reference', 'feature_biotype'\n",
       "    uns: 'schema_version', 'title'\n",
       "    obsm: 'X_scANVI', 'X_scVI', 'X_umap'"
      ]
     },
     "execution_count": 7,
     "metadata": {},
     "output_type": "execute_result"
    }
   ],
   "source": [
    "adata_wu"
   ]
  },
  {
   "cell_type": "code",
   "execution_count": 3,
   "metadata": {},
   "outputs": [
    {
     "name": "stdout",
     "output_type": "stream",
     "text": [
      "El número total de instancias en el dataset conway es: 5852\n",
      "El número total de instancias en el dataset hinze es: 30586\n",
      "El número total de instancias en el dataset janosevic es: 9145\n",
      "El número total de instancias en el dataset kirita es: 25850\n",
      "El número total de instancias en el dataset miao es: 22813\n",
      "El número total de instancias en el dataset park es: 25828\n",
      "El número total de instancias en el dataset wu es: 11221\n"
     ]
    }
   ],
   "source": [
    "# Lista de variables que contienen los datasets\n",
    "datasets = [adata_conway, adata_hinze, adata_janosevic, adata_kirita, adata_miao, adata_park, adata_wu]\n",
    "\n",
    "# Lista de nombres de los datasets\n",
    "nombres_datasets = ['conway', 'hinze', 'janosevic', 'kirita', 'miao', 'park', 'wu']\n",
    "\n",
    "# Realizar análisis descriptivos y visualizaciones para cada dataset\n",
    "for dataset, nombre in zip(datasets, nombres_datasets):\n",
    "    if dataset is not None:  # Verificar si dataset no es None\n",
    "        # Obtener el conteo de instancias por clase\n",
    "        conteo_por_clase = dataset.obs['cell_type'].value_counts()\n",
    "        \n",
    "        # Calcular el número total de instancias sumando el conteo de instancias por clase\n",
    "        total_instancias = conteo_por_clase.sum()\n",
    "        \n",
    "        print(f\"El número total de instancias en el dataset {nombre} es: {total_instancias}\")\n"
   ]
  },
  {
   "cell_type": "code",
   "execution_count": 4,
   "metadata": {},
   "outputs": [
    {
     "name": "stdout",
     "output_type": "stream",
     "text": [
      "El número de columnas en el dataset conway es: 16653\n",
      "El número de columnas en el dataset hinze es: 16653\n",
      "El número de columnas en el dataset janosevic es: 16653\n",
      "El número de columnas en el dataset kirita es: 16653\n",
      "El número de columnas en el dataset miao es: 16653\n",
      "El número de columnas en el dataset park es: 16653\n",
      "El número de columnas en el dataset wu es: 16653\n"
     ]
    }
   ],
   "source": [
    "# Lista de variables que contienen los datasets\n",
    "datasets = [adata_conway, adata_hinze, adata_janosevic, adata_kirita, adata_miao, adata_park, adata_wu]\n",
    "\n",
    "# Lista de nombres de los datasets\n",
    "nombres_datasets = ['conway', 'hinze', 'janosevic', 'kirita', 'miao', 'park', 'wu']\n",
    "\n",
    "# Realizar análisis descriptivos y visualizaciones para cada dataset\n",
    "for dataset, nombre in zip(datasets, nombres_datasets):\n",
    "    if dataset is not None:  # Verificar si dataset no es None\n",
    "        # Obtener el número de columnas\n",
    "        num_columnas = dataset.X.shape[1]\n",
    "        \n",
    "        print(f\"El número de columnas en el dataset {nombre} es: {num_columnas}\")\n"
   ]
  },
  {
   "cell_type": "code",
   "execution_count": 11,
   "metadata": {},
   "outputs": [
    {
     "name": "stdout",
     "output_type": "stream",
     "text": [
      "El número total de instancias en el dataset conway es: 20644\n",
      "El conteo de instancias por clase en el dataset conway es:\n",
      "cell_type\n",
      "epithelial cell of proximal tubule                                     10522\n",
      "kidney distal convoluted tubule epithelial cell                         3912\n",
      "native cell                                                             1108\n",
      "T cell                                                                   666\n",
      "kidney connecting tubule epithelial cell                                 665\n",
      "kidney loop of Henle epithelial cell                                     634\n",
      "renal beta-intercalated cell                                             553\n",
      "endothelial cell                                                         510\n",
      "kidney loop of Henle medullary thick ascending limb epithelial cell      357\n",
      "kidney collecting duct principal cell                                    295\n",
      "macrophage                                                               286\n",
      "kidney loop of Henle cortical thick ascending limb epithelial cell       248\n",
      "glomerular endothelial cell                                              227\n",
      "renal alpha-intercalated cell                                            190\n",
      "natural killer cell                                                      148\n",
      "B cell                                                                   121\n",
      "kidney loop of Henle thin descending limb epithelial cell                 68\n",
      "kidney cortex tubule cell                                                 48\n",
      "kidney collecting duct epithelial cell                                    43\n",
      "neutrophil                                                                22\n",
      "kidney loop of Henle thin ascending limb epithelial cell                  21\n",
      "Name: count, dtype: int64\n"
     ]
    }
   ],
   "source": [
    "# Dataset específico a analizar\n",
    "dataset = adata_wu\n",
    "nombre = 'conway'\n",
    "\n",
    "# Verificar si el dataset no es None\n",
    "if dataset is not None:\n",
    "    # Obtener el conteo de instancias por clase\n",
    "    conteo_por_clase = dataset.obs['cell_type'].value_counts()\n",
    "    \n",
    "    # Calcular el número total de instancias sumando el conteo de instancias por clase\n",
    "    total_instancias = conteo_por_clase.sum()\n",
    "    \n",
    "    print(f\"El número total de instancias en el dataset {nombre} es: {total_instancias}\")\n",
    "    \n",
    "    # Mostrar el conteo de instancias por clase\n",
    "    print(f\"El conteo de instancias por clase en el dataset {nombre} es:\")\n",
    "    print(conteo_por_clase)\n",
    "else:\n",
    "    print(f\"El dataset {nombre} es None\")\n"
   ]
  },
  {
   "cell_type": "code",
   "execution_count": null,
   "metadata": {},
   "outputs": [],
   "source": [
    "# Dataset específico a analizar\n",
    "dataset = adata_wu\n",
    "nombre = 'conway'\n",
    "\n",
    "# Verificar si el dataset no es None\n",
    "if dataset is not None:\n",
    "    # Obtener el conteo de instancias por clase\n",
    "    conteo_por_clase = dataset.obs['cell_type'].value_counts()\n",
    "    \n",
    "    # Filtrar las clases que tienen más de 20 instancias\n",
    "    clases_validas = conteo_por_clase[conteo_por_clase > 20].index\n",
    "    \n",
    "    # Crear un subconjunto del dataset con las clases válidas\n",
    "    dataset_subconjunto = dataset[dataset.obs['cell_type'].isin(clases_validas)].copy()\n",
    "    \n",
    "    # Mostrar información del subconjunto\n",
    "    print(f\"El número total de instancias en el dataset {nombre} después del filtrado es: {dataset_subconjunto.n_obs}\")\n",
    "    print(\"Conteo de instancias por clase en el subconjunto:\")\n",
    "    print(dataset_subconjunto.obs['cell_type'].value_counts())\n",
    "else:\n",
    "    print(f\"El dataset {nombre} es None\")\n"
   ]
  },
  {
   "cell_type": "code",
   "execution_count": null,
   "metadata": {},
   "outputs": [],
   "source": [
    "# Lista de rutas de los datasets\n",
    "rutas_datasets = [\n",
    "    \"/home/a/Escritorio/TFM/src/NSForest/data/Conway20.h5ad\",\n",
    "    \"/home/a/Escritorio/TFM/src/NSForest/data/Dumas20.h5ad\",\n",
    "    \"/home/a/Escritorio/TFM/src/NSForest/data/Hinze20.h5ad\",\n",
    "    \"/home/a/Escritorio/TFM/src/NSForest/data/Janosevic21.h5ad\",\n",
    "    \"/home/a/Escritorio/TFM/src/NSForest/data/Kirita20.h5ad\",\n",
    "    \"/home/a/Escritorio/TFM/src/NSForest/data/Miao21.h5ad\",\n",
    "    \"/home/a/Escritorio/TFM/src/NSForest/data/Park18.h5ad\",\n",
    "    \"/home/a/Escritorio/TFM/src/NSForest/data/Wu19.h5ad\"\n",
    "]\n",
    "\n",
    "# Lista de nombres de los datasets\n",
    "nombres_datasets = ['Conway20', 'Dumas20', 'Hinze20', 'Janosevic21', 'Kirita20', 'Miao21', 'Park18', 'Wu19']\n",
    "\n",
    "# Ruta de salida para guardar los subconjuntos\n",
    "ruta_salida = \"/home/a/Escritorio/TFM/src/NSForest/data/\"\n",
    "\n",
    "# Iterar sobre las rutas de los datasets y nombres\n",
    "for ruta, nombre in zip(rutas_datasets, nombres_datasets):\n",
    "    # Cargar el dataset\n",
    "    dataset = sc.read_h5ad(ruta)\n",
    "    \n",
    "    if dataset is not None:\n",
    "        # Obtener el conteo de instancias por clase\n",
    "        conteo_por_clase = dataset.obs['cell_type'].value_counts()\n",
    "        \n",
    "        # Filtrar las clases que tienen más de 20 instancias\n",
    "        clases_validas = conteo_por_clase[conteo_por_clase > 20].index\n",
    "        \n",
    "        # Crear un subconjunto del dataset con las clases válidas\n",
    "        dataset_subconjunto = dataset[dataset.obs['cell_type'].isin(clases_validas)].copy()\n",
    "        \n",
    "        # Guardar el subconjunto en la ruta especificada\n",
    "        ruta_guardado = ruta_salida + nombre + \"_subconjunto.h5ad\"\n",
    "        dataset_subconjunto.write(ruta_guardado)\n",
    "        \n",
    "        # Mostrar información del subconjunto\n",
    "        print(f\"El número total de instancias en el dataset {nombre} después del filtrado es: {dataset_subconjunto.n_obs}\")\n",
    "        print(f\"El subconjunto ha sido guardado en: {ruta_guardado}\")\n",
    "    else:\n",
    "        print(f\"El dataset {nombre} es None\")\n"
   ]
  },
  {
   "cell_type": "code",
   "execution_count": 3,
   "metadata": {},
   "outputs": [],
   "source": [
    "adata_conway = sc.read_h5ad(\"/home/a/Escritorio/TFM/src/NSForest/data/Conway20_subconjunto.h5ad\")\n",
    "adata_hinze = sc.read_h5ad(\"/home/a/Escritorio/TFM/src/NSForest/data/Hinze20_subconjunto.h5ad\")\n",
    "adata_janosevic = sc.read_h5ad(\"/home/a/Escritorio/TFM/src/NSForest/data/Janosevic21_subconjunto.h5ad\")\n",
    "adata_kirita = sc.read_h5ad(\"/home/a/Escritorio/TFM/src/NSForest/data/Kirita20_subconjunto.h5ad\")\n",
    "adata_miao = sc.read_h5ad(\"/home/a/Escritorio/TFM/src/NSForest/data/Miao21_subconjunto.h5ad\")\n",
    "adata_park = sc.read_h5ad(\"/home/a/Escritorio/TFM/src/NSForest/data/Park18_subconjunto.h5ad\")\n",
    "adata_wu = sc.read_h5ad(\"/home/a/Escritorio/TFM/src/NSForest/data/Wu19_subconjunto.h5ad\")"
   ]
  },
  {
   "cell_type": "code",
   "execution_count": 3,
   "metadata": {},
   "outputs": [
    {
     "name": "stdout",
     "output_type": "stream",
     "text": [
      "En el dataset conway hay 13 clusters diferentes.\n",
      "En el dataset hinze hay 20 clusters diferentes.\n",
      "En el dataset janosevic hay 14 clusters diferentes.\n",
      "En el dataset kirita hay 18 clusters diferentes.\n",
      "En el dataset miao hay 18 clusters diferentes.\n",
      "En el dataset park hay 21 clusters diferentes.\n",
      "En el dataset wu hay 13 clusters diferentes.\n"
     ]
    }
   ],
   "source": [
    "# Lista de variables que contienen los datasets\n",
    "datasets = [adata_conway, adata_hinze, adata_janosevic, adata_kirita, adata_miao, adata_park, adata_wu]\n",
    "\n",
    "# Lista de nombres de los datasets\n",
    "nombres_datasets = ['conway', 'hinze', 'janosevic', 'kirita', 'miao', 'park', 'wu']\n",
    "\n",
    "# Contar el número de clusters diferentes en cada dataset\n",
    "for dataset, nombre in zip(datasets, nombres_datasets):\n",
    "    if dataset is not None:  # Verificar si dataset no es None\n",
    "        clusters_diferentes = dataset.obs['cell_type'].nunique()\n",
    "        print(f\"En el dataset {nombre} hay {clusters_diferentes} clusters diferentes.\")\n",
    "    else:\n",
    "        print(f\"El dataset {nombre} no está disponible.\")"
   ]
  },
  {
   "cell_type": "code",
   "execution_count": 4,
   "metadata": {},
   "outputs": [
    {
     "data": {
      "text/html": [
       "<div>\n",
       "<style scoped>\n",
       "    .dataframe tbody tr th:only-of-type {\n",
       "        vertical-align: middle;\n",
       "    }\n",
       "\n",
       "    .dataframe tbody tr th {\n",
       "        vertical-align: top;\n",
       "    }\n",
       "\n",
       "    .dataframe thead th {\n",
       "        text-align: right;\n",
       "    }\n",
       "</style>\n",
       "<table border=\"1\" class=\"dataframe\">\n",
       "  <thead>\n",
       "    <tr style=\"text-align: right;\">\n",
       "      <th></th>\n",
       "      <th>conway</th>\n",
       "      <th>hinze</th>\n",
       "      <th>janosevic</th>\n",
       "      <th>kirita</th>\n",
       "      <th>miao</th>\n",
       "      <th>park</th>\n",
       "      <th>wu</th>\n",
       "    </tr>\n",
       "  </thead>\n",
       "  <tbody>\n",
       "    <tr>\n",
       "      <th>B cell</th>\n",
       "      <td>0</td>\n",
       "      <td>0</td>\n",
       "      <td>0</td>\n",
       "      <td>0</td>\n",
       "      <td>0</td>\n",
       "      <td>1</td>\n",
       "      <td>0</td>\n",
       "    </tr>\n",
       "    <tr>\n",
       "      <th>T cell</th>\n",
       "      <td>1</td>\n",
       "      <td>1</td>\n",
       "      <td>1</td>\n",
       "      <td>1</td>\n",
       "      <td>1</td>\n",
       "      <td>1</td>\n",
       "      <td>0</td>\n",
       "    </tr>\n",
       "    <tr>\n",
       "      <th>dendritic cell</th>\n",
       "      <td>0</td>\n",
       "      <td>0</td>\n",
       "      <td>1</td>\n",
       "      <td>0</td>\n",
       "      <td>0</td>\n",
       "      <td>0</td>\n",
       "      <td>0</td>\n",
       "    </tr>\n",
       "    <tr>\n",
       "      <th>endothelial cell</th>\n",
       "      <td>1</td>\n",
       "      <td>1</td>\n",
       "      <td>1</td>\n",
       "      <td>1</td>\n",
       "      <td>1</td>\n",
       "      <td>1</td>\n",
       "      <td>1</td>\n",
       "    </tr>\n",
       "    <tr>\n",
       "      <th>epithelial cell of proximal tubule</th>\n",
       "      <td>1</td>\n",
       "      <td>1</td>\n",
       "      <td>1</td>\n",
       "      <td>1</td>\n",
       "      <td>1</td>\n",
       "      <td>1</td>\n",
       "      <td>1</td>\n",
       "    </tr>\n",
       "    <tr>\n",
       "      <th>fibroblast</th>\n",
       "      <td>0</td>\n",
       "      <td>1</td>\n",
       "      <td>0</td>\n",
       "      <td>1</td>\n",
       "      <td>0</td>\n",
       "      <td>0</td>\n",
       "      <td>0</td>\n",
       "    </tr>\n",
       "    <tr>\n",
       "      <th>glomerular endothelial cell</th>\n",
       "      <td>1</td>\n",
       "      <td>1</td>\n",
       "      <td>0</td>\n",
       "      <td>0</td>\n",
       "      <td>1</td>\n",
       "      <td>1</td>\n",
       "      <td>0</td>\n",
       "    </tr>\n",
       "    <tr>\n",
       "      <th>kidney collecting duct epithelial cell</th>\n",
       "      <td>0</td>\n",
       "      <td>0</td>\n",
       "      <td>0</td>\n",
       "      <td>0</td>\n",
       "      <td>0</td>\n",
       "      <td>1</td>\n",
       "      <td>0</td>\n",
       "    </tr>\n",
       "    <tr>\n",
       "      <th>kidney collecting duct principal cell</th>\n",
       "      <td>1</td>\n",
       "      <td>1</td>\n",
       "      <td>1</td>\n",
       "      <td>1</td>\n",
       "      <td>1</td>\n",
       "      <td>1</td>\n",
       "      <td>1</td>\n",
       "    </tr>\n",
       "    <tr>\n",
       "      <th>kidney connecting tubule epithelial cell</th>\n",
       "      <td>1</td>\n",
       "      <td>1</td>\n",
       "      <td>1</td>\n",
       "      <td>1</td>\n",
       "      <td>1</td>\n",
       "      <td>1</td>\n",
       "      <td>1</td>\n",
       "    </tr>\n",
       "    <tr>\n",
       "      <th>kidney cortex tubule cell</th>\n",
       "      <td>0</td>\n",
       "      <td>1</td>\n",
       "      <td>0</td>\n",
       "      <td>1</td>\n",
       "      <td>1</td>\n",
       "      <td>1</td>\n",
       "      <td>0</td>\n",
       "    </tr>\n",
       "    <tr>\n",
       "      <th>kidney distal convoluted tubule epithelial cell</th>\n",
       "      <td>1</td>\n",
       "      <td>1</td>\n",
       "      <td>1</td>\n",
       "      <td>1</td>\n",
       "      <td>1</td>\n",
       "      <td>1</td>\n",
       "      <td>1</td>\n",
       "    </tr>\n",
       "    <tr>\n",
       "      <th>kidney glomerular epithelial cell</th>\n",
       "      <td>0</td>\n",
       "      <td>1</td>\n",
       "      <td>0</td>\n",
       "      <td>1</td>\n",
       "      <td>0</td>\n",
       "      <td>0</td>\n",
       "      <td>0</td>\n",
       "    </tr>\n",
       "    <tr>\n",
       "      <th>kidney loop of Henle cortical thick ascending limb epithelial cell</th>\n",
       "      <td>1</td>\n",
       "      <td>1</td>\n",
       "      <td>1</td>\n",
       "      <td>1</td>\n",
       "      <td>1</td>\n",
       "      <td>1</td>\n",
       "      <td>0</td>\n",
       "    </tr>\n",
       "    <tr>\n",
       "      <th>kidney loop of Henle epithelial cell</th>\n",
       "      <td>1</td>\n",
       "      <td>1</td>\n",
       "      <td>1</td>\n",
       "      <td>1</td>\n",
       "      <td>1</td>\n",
       "      <td>1</td>\n",
       "      <td>0</td>\n",
       "    </tr>\n",
       "    <tr>\n",
       "      <th>kidney loop of Henle medullary thick ascending limb epithelial cell</th>\n",
       "      <td>1</td>\n",
       "      <td>1</td>\n",
       "      <td>1</td>\n",
       "      <td>1</td>\n",
       "      <td>1</td>\n",
       "      <td>1</td>\n",
       "      <td>0</td>\n",
       "    </tr>\n",
       "    <tr>\n",
       "      <th>kidney loop of Henle thin ascending limb epithelial cell</th>\n",
       "      <td>0</td>\n",
       "      <td>1</td>\n",
       "      <td>0</td>\n",
       "      <td>0</td>\n",
       "      <td>1</td>\n",
       "      <td>1</td>\n",
       "      <td>1</td>\n",
       "    </tr>\n",
       "    <tr>\n",
       "      <th>kidney loop of Henle thin descending limb epithelial cell</th>\n",
       "      <td>0</td>\n",
       "      <td>0</td>\n",
       "      <td>0</td>\n",
       "      <td>0</td>\n",
       "      <td>0</td>\n",
       "      <td>1</td>\n",
       "      <td>1</td>\n",
       "    </tr>\n",
       "    <tr>\n",
       "      <th>macrophage</th>\n",
       "      <td>1</td>\n",
       "      <td>1</td>\n",
       "      <td>0</td>\n",
       "      <td>1</td>\n",
       "      <td>1</td>\n",
       "      <td>1</td>\n",
       "      <td>1</td>\n",
       "    </tr>\n",
       "    <tr>\n",
       "      <th>macula densa epithelial cell</th>\n",
       "      <td>0</td>\n",
       "      <td>0</td>\n",
       "      <td>0</td>\n",
       "      <td>1</td>\n",
       "      <td>0</td>\n",
       "      <td>0</td>\n",
       "      <td>0</td>\n",
       "    </tr>\n",
       "    <tr>\n",
       "      <th>mesangial cell</th>\n",
       "      <td>0</td>\n",
       "      <td>0</td>\n",
       "      <td>0</td>\n",
       "      <td>0</td>\n",
       "      <td>0</td>\n",
       "      <td>0</td>\n",
       "      <td>1</td>\n",
       "    </tr>\n",
       "    <tr>\n",
       "      <th>native cell</th>\n",
       "      <td>1</td>\n",
       "      <td>1</td>\n",
       "      <td>1</td>\n",
       "      <td>0</td>\n",
       "      <td>1</td>\n",
       "      <td>1</td>\n",
       "      <td>1</td>\n",
       "    </tr>\n",
       "    <tr>\n",
       "      <th>natural killer cell</th>\n",
       "      <td>0</td>\n",
       "      <td>0</td>\n",
       "      <td>0</td>\n",
       "      <td>0</td>\n",
       "      <td>0</td>\n",
       "      <td>1</td>\n",
       "      <td>0</td>\n",
       "    </tr>\n",
       "    <tr>\n",
       "      <th>neutrophil</th>\n",
       "      <td>0</td>\n",
       "      <td>0</td>\n",
       "      <td>0</td>\n",
       "      <td>0</td>\n",
       "      <td>1</td>\n",
       "      <td>1</td>\n",
       "      <td>0</td>\n",
       "    </tr>\n",
       "    <tr>\n",
       "      <th>pericyte</th>\n",
       "      <td>0</td>\n",
       "      <td>1</td>\n",
       "      <td>1</td>\n",
       "      <td>1</td>\n",
       "      <td>0</td>\n",
       "      <td>0</td>\n",
       "      <td>0</td>\n",
       "    </tr>\n",
       "    <tr>\n",
       "      <th>podocyte</th>\n",
       "      <td>0</td>\n",
       "      <td>1</td>\n",
       "      <td>0</td>\n",
       "      <td>1</td>\n",
       "      <td>1</td>\n",
       "      <td>0</td>\n",
       "      <td>1</td>\n",
       "    </tr>\n",
       "    <tr>\n",
       "      <th>renal alpha-intercalated cell</th>\n",
       "      <td>0</td>\n",
       "      <td>1</td>\n",
       "      <td>1</td>\n",
       "      <td>1</td>\n",
       "      <td>1</td>\n",
       "      <td>1</td>\n",
       "      <td>1</td>\n",
       "    </tr>\n",
       "    <tr>\n",
       "      <th>renal beta-intercalated cell</th>\n",
       "      <td>1</td>\n",
       "      <td>1</td>\n",
       "      <td>1</td>\n",
       "      <td>1</td>\n",
       "      <td>1</td>\n",
       "      <td>1</td>\n",
       "      <td>1</td>\n",
       "    </tr>\n",
       "  </tbody>\n",
       "</table>\n",
       "</div>"
      ],
      "text/plain": [
       "                                                    conway  hinze  janosevic  \\\n",
       "B cell                                                   0      0          0   \n",
       "T cell                                                   1      1          1   \n",
       "dendritic cell                                           0      0          1   \n",
       "endothelial cell                                         1      1          1   \n",
       "epithelial cell of proximal tubule                       1      1          1   \n",
       "fibroblast                                               0      1          0   \n",
       "glomerular endothelial cell                              1      1          0   \n",
       "kidney collecting duct epithelial cell                   0      0          0   \n",
       "kidney collecting duct principal cell                    1      1          1   \n",
       "kidney connecting tubule epithelial cell                 1      1          1   \n",
       "kidney cortex tubule cell                                0      1          0   \n",
       "kidney distal convoluted tubule epithelial cell          1      1          1   \n",
       "kidney glomerular epithelial cell                        0      1          0   \n",
       "kidney loop of Henle cortical thick ascending l...       1      1          1   \n",
       "kidney loop of Henle epithelial cell                     1      1          1   \n",
       "kidney loop of Henle medullary thick ascending ...       1      1          1   \n",
       "kidney loop of Henle thin ascending limb epithe...       0      1          0   \n",
       "kidney loop of Henle thin descending limb epith...       0      0          0   \n",
       "macrophage                                               1      1          0   \n",
       "macula densa epithelial cell                             0      0          0   \n",
       "mesangial cell                                           0      0          0   \n",
       "native cell                                              1      1          1   \n",
       "natural killer cell                                      0      0          0   \n",
       "neutrophil                                               0      0          0   \n",
       "pericyte                                                 0      1          1   \n",
       "podocyte                                                 0      1          0   \n",
       "renal alpha-intercalated cell                            0      1          1   \n",
       "renal beta-intercalated cell                             1      1          1   \n",
       "\n",
       "                                                    kirita  miao  park  wu  \n",
       "B cell                                                   0     0     1   0  \n",
       "T cell                                                   1     1     1   0  \n",
       "dendritic cell                                           0     0     0   0  \n",
       "endothelial cell                                         1     1     1   1  \n",
       "epithelial cell of proximal tubule                       1     1     1   1  \n",
       "fibroblast                                               1     0     0   0  \n",
       "glomerular endothelial cell                              0     1     1   0  \n",
       "kidney collecting duct epithelial cell                   0     0     1   0  \n",
       "kidney collecting duct principal cell                    1     1     1   1  \n",
       "kidney connecting tubule epithelial cell                 1     1     1   1  \n",
       "kidney cortex tubule cell                                1     1     1   0  \n",
       "kidney distal convoluted tubule epithelial cell          1     1     1   1  \n",
       "kidney glomerular epithelial cell                        1     0     0   0  \n",
       "kidney loop of Henle cortical thick ascending l...       1     1     1   0  \n",
       "kidney loop of Henle epithelial cell                     1     1     1   0  \n",
       "kidney loop of Henle medullary thick ascending ...       1     1     1   0  \n",
       "kidney loop of Henle thin ascending limb epithe...       0     1     1   1  \n",
       "kidney loop of Henle thin descending limb epith...       0     0     1   1  \n",
       "macrophage                                               1     1     1   1  \n",
       "macula densa epithelial cell                             1     0     0   0  \n",
       "mesangial cell                                           0     0     0   1  \n",
       "native cell                                              0     1     1   1  \n",
       "natural killer cell                                      0     0     1   0  \n",
       "neutrophil                                               0     1     1   0  \n",
       "pericyte                                                 1     0     0   0  \n",
       "podocyte                                                 1     1     0   1  \n",
       "renal alpha-intercalated cell                            1     1     1   1  \n",
       "renal beta-intercalated cell                             1     1     1   1  "
      ]
     },
     "execution_count": 4,
     "metadata": {},
     "output_type": "execute_result"
    }
   ],
   "source": [
    "# Lista de nombres de los datasets\n",
    "nombres_datasets = ['conway', 'hinze', 'janosevic', 'kirita', 'miao', 'park', 'wu']\n",
    "\n",
    "# Diccionario para almacenar los nombres de clusters de cada dataset\n",
    "clusters_por_dataset = {nombre: set(dataset.obs['cell_type'].unique()) for nombre, dataset in zip(nombres_datasets, datasets) if dataset is not None}\n",
    "\n",
    "# Obtener la lista de todos los clusters únicos\n",
    "todos_clusters = sorted(set.union(*[set(clusters) for clusters in clusters_por_dataset.values()]))\n",
    "\n",
    "# Construir el DataFrame con los nombres de los clusters como índice y los nombres de los datasets como columnas\n",
    "df = pd.DataFrame(0, columns=nombres_datasets, index=todos_clusters)\n",
    "\n",
    "# Rellenar el DataFrame con 0 o 1 dependiendo de si el cluster se encuentra en el dataset o no\n",
    "for dataset, clusters in clusters_por_dataset.items():\n",
    "    for cluster in todos_clusters:\n",
    "        df.loc[cluster, dataset] = 1 if cluster in clusters else 0\n",
    "\n",
    "# Exportar el DataFrame a un archivo CSV\n",
    "df.to_csv('clusters.csv')\n",
    "\n",
    "# Mostrar el DataFrame\n",
    "df"
   ]
  },
  {
   "cell_type": "markdown",
   "metadata": {},
   "source": [
    "Datasets:\n",
    "- conway, hinze,\tjanosevic,\tkirita,\tmiao,\tpark,\twu:\n",
    "    - endothelial cell\n",
    "    - epithelial cell of proximal tubule\n",
    "    - kidney collecting duct principal cell\t\n",
    "    - kidney connecting tubule epithelial cell\n",
    "    - kidney distal convoluted tubule epithelial cell\n",
    "    - renal beta-intercalated cell\n",
    "\n",
    "- conway, hinze,\tjanosevic,\tkirita,\tmiao,\tpark:\n",
    "    - T cell\n",
    "    - endothelial cell\n",
    "    - epithelial cell of proximal tubule\n",
    "    - kidney collecting duct principal cell\t\n",
    "    - kidney connecting tubule epithelial cell\n",
    "    - kidney distal convoluted tubule epithelial cell\n",
    "    - kidney loop of Henle cortical thick ascending limb epithelial cell\t\n",
    "    - kidney loop of Henle epithelial cell\n",
    "    - kidney loop of Henle medullary thick ascending limb epithelial cell\n",
    "    - renal beta-intercalated cell\n",
    "\n",
    "- conway, hinze,\tjanosevic, kirita, miao:\n",
    "    - T cell\n",
    "    - endothelial cell\n",
    "    - epithelial cell of proximal tubule\n",
    "    - kidney collecting duct principal cell\t\n",
    "    - kidney connecting tubule epithelial cell\n",
    "    - kidney distal convoluted tubule epithelial cell\n",
    "    - kidney loop of Henle cortical thick ascending limb epithelial cell\t\n",
    "    - kidney loop of Henle epithelial cell\n",
    "    - kidney loop of Henle medullary thick ascending limb epithelial cell\n",
    "    - renal beta-intercalated cell\n",
    "\n",
    "- conway, hinze,\tjanosevic, kirita:\n",
    "    - T cell\n",
    "    - endothelial cell\n",
    "    - epithelial cell of proximal tubule\n",
    "    - kidney collecting duct principal cell\t\n",
    "    - kidney connecting tubule epithelial cell\n",
    "    - kidney distal convoluted tubule epithelial cell\n",
    "    - kidney loop of Henle cortical thick ascending limb epithelial cell\t\n",
    "    - kidney loop of Henle epithelial cell\n",
    "    - kidney loop of Henle medullary thick ascending limb epithelial cell\t\n",
    "    - renal beta-intercalated cell\t\n",
    "\n",
    "- conway, hinze,\tjanosevic:\n",
    "    - T cell\n",
    "    - endothelial cell\n",
    "    - epithelial cell of proximal tubule\n",
    "    - kidney collecting duct principal cell\t\n",
    "    - kidney connecting tubule epithelial cell\n",
    "    - kidney distal convoluted tubule epithelial cell\n",
    "    - kidney loop of Henle cortical thick ascending limb epithelial cell\t\n",
    "    - kidney loop of Henle epithelial cell\n",
    "    - kidney loop of Henle medullary thick ascending limb epithelial cell\n",
    "    - native cell\t\n",
    "    - renal beta-intercalated cell\t\n",
    "\n",
    "- janosevic, kirita, miao, park:\n",
    "    - T cell\n",
    "    - endothelial cell\n",
    "    - epithelial cell of proximal tubule\n",
    "    - kidney collecting duct principal cell\t\n",
    "    - kidney connecting tubule epithelial cell\n",
    "    - kidney distal convoluted tubule epithelial cell\n",
    "    - kidney loop of Henle cortical thick ascending limb epithelial cell\t\n",
    "    - kidney loop of Henle epithelial cell\n",
    "    - kidney loop of Henle medullary thick ascending limb epithelial cell\n",
    "    - renal alpha-intercalated cell\n",
    "    - renal beta-intercalated cell"
   ]
  },
  {
   "cell_type": "markdown",
   "metadata": {},
   "source": [
    "## Seleccion de instancias\n",
    "\n",
    "Haremos 3 datasets:\n",
    "1. conway, hinze,\tjanosevic,\tkirita,\tmiao,\tpark,\twu:\n",
    "    - endothelial cell\n",
    "    - epithelial cell of proximal tubule\n",
    "    - kidney collecting duct principal cell\t\n",
    "    - kidney connecting tubule epithelial cell\n",
    "    - kidney distal convoluted tubule epithelial cell\n",
    "    - renal beta-intercalated cell\n",
    "\n",
    "2. conway, hinze,\tjanosevic, kirita, miao:\n",
    "    - T cell\n",
    "    - endothelial cell\n",
    "    - epithelial cell of proximal tubule\n",
    "    - kidney collecting duct principal cell\t\n",
    "    - kidney connecting tubule epithelial cell\n",
    "    - kidney distal convoluted tubule epithelial cell\n",
    "    - kidney loop of Henle cortical thick ascending limb epithelial cell\t\n",
    "    - kidney loop of Henle epithelial cell\n",
    "    - kidney loop of Henle medullary thick ascending limb epithelial cell\n",
    "    - renal beta-intercalated cell\n",
    "\n",
    "3. janosevic, kirita, miao, park:\n",
    "    - T cell\n",
    "    - endothelial cell\n",
    "    - epithelial cell of proximal tubule\n",
    "    - kidney collecting duct principal cell\t\n",
    "    - kidney connecting tubule epithelial cell\n",
    "    - kidney distal convoluted tubule epithelial cell\n",
    "    - kidney loop of Henle cortical thick ascending limb epithelial cell\t\n",
    "    - kidney loop of Henle epithelial cell\n",
    "    - kidney loop of Henle medullary thick ascending limb epithelial cell\n",
    "    - renal alpha-intercalated cell\n",
    "    - renal beta-intercalated cell\n"
   ]
  },
  {
   "cell_type": "markdown",
   "metadata": {},
   "source": [
    "Filtraremos los datasets según las siguientes clases\n",
    "\n",
    "1. Haremos un primer dataset que contiene todos los datasets (después haremos split train y test).\n",
    "\n",
    "1. También otro dataset que contiene todos los datasets menos uno que lo dejaremos para test.\n",
    "\n",
    "Realizaremos esta operación para los tres subconjuntos mostrados arriba"
   ]
  },
  {
   "cell_type": "markdown",
   "metadata": {},
   "source": [
    "### 1. conway, hinze,\tjanosevic,\tkirita,\tmiao,\tpark,\twu:\n",
    "    - endothelial cell\n",
    "    - epithelial cell of proximal tubule\n",
    "    - kidney collecting duct principal cell\t\n",
    "    - kidney connecting tubule epithelial cell\n",
    "    - kidney distal convoluted tubule epithelial cell\n",
    "    - renal beta-intercalated cell"
   ]
  },
  {
   "cell_type": "code",
   "execution_count": null,
   "metadata": {},
   "outputs": [],
   "source": [
    "# Lista de clases de interés que se utilizarán para filtrar los conjuntos de datos\n",
    "clases_interesantes = ['endothelial cell',\n",
    "                       'epithelial cell of proximal tubule',\n",
    "                       'kidney collecting duct principal cell',\n",
    "                       'kidney connecting tubule epithelial cell',\n",
    "                       'kidney distal convoluted tubule epithelial cell',\n",
    "                       'renal beta-intercalated cell']\n",
    "\n",
    "# Aplicar el filtro para cada conjunto de datos\n",
    "adata_conway_filtrado = adata_conway[adata_conway.obs['cell_type'].isin(clases_interesantes)]\n",
    "adata_hinze_filtrado = adata_hinze[adata_hinze.obs['cell_type'].isin(clases_interesantes)]\n",
    "adata_janosevic_filtrado = adata_janosevic[adata_janosevic.obs['cell_type'].isin(clases_interesantes)]\n",
    "adata_kirita_filtrado = adata_kirita[adata_kirita.obs['cell_type'].isin(clases_interesantes)]\n",
    "adata_miao_filtrado = adata_miao[adata_miao.obs['cell_type'].isin(clases_interesantes)]\n",
    "adata_park_filtrado = adata_park[adata_park.obs['cell_type'].isin(clases_interesantes)]\n",
    "adata_wu_filtrado = adata_wu[adata_wu.obs['cell_type'].isin(clases_interesantes)]\n"
   ]
  },
  {
   "cell_type": "markdown",
   "metadata": {},
   "source": [
    "### Concatenar todos los datasets en uno\n",
    "- Haremos train y test de este nuevo dataset"
   ]
  },
  {
   "cell_type": "code",
   "execution_count": 4,
   "metadata": {},
   "outputs": [],
   "source": [
    "# Concatenar objetos AnnData\n",
    "def concatenate_anndata(adata_list):\n",
    "    # Crear un nuevo objeto AnnData\n",
    "    adata_concatenated = AnnData.concatenate(*adata_list, join='outer', index_unique=None)\n",
    "    \n",
    "    # Conservar la información de 'uns' de los objetos originales\n",
    "    for key in adata_list[0].uns:\n",
    "        if key not in adata_concatenated.uns:\n",
    "            adata_concatenated.uns[key] = adata_list[0].uns[key]\n",
    "    \n",
    "    return adata_concatenated"
   ]
  },
  {
   "cell_type": "code",
   "execution_count": null,
   "metadata": {},
   "outputs": [],
   "source": [
    "# Lista de los conjuntos de datos a concatenar\n",
    "datasets_to_concatenate = [adata_conway_filtrado, adata_hinze_filtrado, adata_janosevic_filtrado,\n",
    "                      adata_kirita_filtrado, adata_miao_filtrado, adata_park_filtrado, adata_wu_filtrado]\n",
    "\n",
    "# Concatenar los conjuntos de datos\n",
    "adata_completo = concatenate_anndata(datasets_to_concatenate)"
   ]
  },
  {
   "cell_type": "markdown",
   "metadata": {},
   "source": [
    "### Concatenar todos los datasets menos wu (lo usaremos como test)"
   ]
  },
  {
   "cell_type": "code",
   "execution_count": null,
   "metadata": {},
   "outputs": [],
   "source": [
    "# Lista de los conjuntos de datos a concatenar\n",
    "datasets_to_concatenate = [adata_conway_filtrado, adata_hinze_filtrado, adata_janosevic_filtrado,\n",
    "                      adata_kirita_filtrado, adata_miao_filtrado, adata_park_filtrado]\n",
    "\n",
    "# Concatenar los conjuntos de datos\n",
    "adata_semi_completo = concatenate_anndata(datasets_to_concatenate)"
   ]
  },
  {
   "cell_type": "markdown",
   "metadata": {},
   "source": [
    "### Guardamos los dataser en directorio"
   ]
  },
  {
   "cell_type": "code",
   "execution_count": null,
   "metadata": {},
   "outputs": [],
   "source": [
    "ruta_salida = \"/home/a/Escritorio/TFM/src/NSForest/data/data_selection/\"\n",
    "# Guardar los datasets filtrados\n",
    "adata_completo.write(ruta_salida + 'adata_selected_dt7_6cl.h5ad')\n",
    "adata_semi_completo.write(ruta_salida + 'adata_selected_dt6_6cl.h5ad')\n",
    "adata_wu_filtrado.write(ruta_salida + 'adata_selected_wu_6cl.h5ad')"
   ]
  },
  {
   "cell_type": "markdown",
   "metadata": {},
   "source": [
    "### 2. conway, hinze,\tjanosevic,\tkirita,\tmiao:\n",
    "    - T cell\n",
    "    - endothelial cell\n",
    "    - epithelial cell of proximal tubule\n",
    "    - kidney collecting duct principal cell\t\n",
    "    - kidney connecting tubule epithelial cell\n",
    "    - kidney distal convoluted tubule epithelial cell\n",
    "    - kidney loop of Henle cortical thick ascending limb epithelial cell\t\n",
    "    - kidney loop of Henle epithelial cell\n",
    "    - kidney loop of Henle medullary thick ascending limb epithelial cell\n",
    "    - renal beta-intercalated cell"
   ]
  },
  {
   "cell_type": "code",
   "execution_count": null,
   "metadata": {},
   "outputs": [],
   "source": [
    "# Lista de clases de interés que se utilizarán para filtrar los conjuntos de datos\n",
    "clases_interesantes = ['T cell',\n",
    "                       'endothelial cell',\n",
    "                       'epithelial cell of proximal tubule',\n",
    "                       'kidney collecting duct principal cell',\n",
    "                       'kidney connecting tubule epithelial cell',\n",
    "                       'kidney distal convoluted tubule epithelial cell',\n",
    "                       'kidney loop of Henle cortical thick ascending limb epithelial cell',\n",
    "                       'kidney loop of Henle epithelial cell',\n",
    "                       'kidney loop of Henle medullary thick ascending limb epithelial cell',\n",
    "                       'renal beta-intercalated cell']\n",
    "\n",
    "# Aplicar el filtro para cada conjunto de datos\n",
    "adata_conway_filtrado = adata_conway[adata_conway.obs['cell_type'].isin(clases_interesantes)]\n",
    "adata_hinze_filtrado = adata_hinze[adata_hinze.obs['cell_type'].isin(clases_interesantes)]\n",
    "adata_janosevic_filtrado = adata_janosevic[adata_janosevic.obs['cell_type'].isin(clases_interesantes)]\n",
    "adata_kirita_filtrado = adata_kirita[adata_kirita.obs['cell_type'].isin(clases_interesantes)]\n",
    "adata_miao_filtrado = adata_miao[adata_miao.obs['cell_type'].isin(clases_interesantes)]"
   ]
  },
  {
   "cell_type": "markdown",
   "metadata": {},
   "source": [
    "### Concatenar todos los datasets en uno\n",
    "- Haremos train y test de este nuevo dataset"
   ]
  },
  {
   "cell_type": "code",
   "execution_count": null,
   "metadata": {},
   "outputs": [],
   "source": [
    "# Lista de los conjuntos de datos a concatenar\n",
    "datasets_to_concatenate = [adata_conway_filtrado, adata_hinze_filtrado, adata_janosevic_filtrado,\n",
    "                      adata_kirita_filtrado, adata_miao_filtrado]\n",
    "\n",
    "# Concatenar los conjuntos de datos\n",
    "adata_completo = concatenate_anndata(datasets_to_concatenate)"
   ]
  },
  {
   "cell_type": "markdown",
   "metadata": {},
   "source": [
    "### Concatenar todos los datasets menos miao (lo usaremos como test)"
   ]
  },
  {
   "cell_type": "code",
   "execution_count": null,
   "metadata": {},
   "outputs": [],
   "source": [
    "# Lista de los conjuntos de datos a concatenar\n",
    "datasets_to_concatenate = [adata_conway_filtrado, adata_hinze_filtrado, adata_janosevic_filtrado,\n",
    "                      adata_kirita_filtrado]\n",
    "\n",
    "# Concatenar los conjuntos de datos\n",
    "adata_semi_completo = concatenate_anndata(datasets_to_concatenate)"
   ]
  },
  {
   "cell_type": "markdown",
   "metadata": {},
   "source": [
    "### Guardamos los dataser en directorio"
   ]
  },
  {
   "cell_type": "code",
   "execution_count": null,
   "metadata": {},
   "outputs": [],
   "source": [
    "# Guardar los datasets filtrados\n",
    "adata_completo.write(ruta_salida + 'adata_selected_dt5_10cl.h5ad')\n",
    "adata_semi_completo.write(ruta_salida + 'adata_selected_dt4_10cl.h5ad')\n",
    "adata_miao_filtrado.write(ruta_salida + 'adata_selected_miao_10cl.h5ad')"
   ]
  },
  {
   "cell_type": "markdown",
   "metadata": {},
   "source": [
    "### 3. janosevic, kirita, miao, park:\n",
    "    - T cell\n",
    "    - endothelial cell\n",
    "    - epithelial cell of proximal tubule\n",
    "    - kidney collecting duct principal cell\t\n",
    "    - kidney connecting tubule epithelial cell\n",
    "    - kidney distal convoluted tubule epithelial cell\n",
    "    - kidney loop of Henle cortical thick ascending limb epithelial cell\t\n",
    "    - kidney loop of Henle epithelial cell\n",
    "    - kidney loop of Henle medullary thick ascending limb epithelial cell\n",
    "    - renal alpha-intercalated cell\n",
    "    - renal beta-intercalated cell"
   ]
  },
  {
   "cell_type": "code",
   "execution_count": null,
   "metadata": {},
   "outputs": [],
   "source": [
    "# Lista de clases de interés que se utilizarán para filtrar los conjuntos de datos\n",
    "clases_interesantes = ['T cell',\n",
    "                       'endothelial cell',\n",
    "                       'epithelial cell of proximal tubule',\n",
    "                       'kidney collecting duct principal cell',\n",
    "                       'kidney connecting tubule epithelial cell',\n",
    "                       'kidney distal convoluted tubule epithelial cell',\n",
    "                       'kidney loop of Henle cortical thick ascending limb epithelial cell',\n",
    "                       'kidney loop of Henle epithelial cell',\n",
    "                       'kidney loop of Henle medullary thick ascending limb epithelial cell',\n",
    "                       'renal alpha-intercalated cell',\n",
    "                       'renal beta-intercalated cell']\n",
    "\n",
    "# Aplicar el filtro para cada conjunto de datos\n",
    "adata_janosevic_filtrado = adata_janosevic[adata_janosevic.obs['cell_type'].isin(clases_interesantes)]\n",
    "adata_kirita_filtrado = adata_kirita[adata_kirita.obs['cell_type'].isin(clases_interesantes)]\n",
    "adata_miao_filtrado = adata_miao[adata_miao.obs['cell_type'].isin(clases_interesantes)]\n",
    "adata_park_filtrado = adata_park[adata_park.obs['cell_type'].isin(clases_interesantes)]\n"
   ]
  },
  {
   "cell_type": "markdown",
   "metadata": {},
   "source": [
    "### Concatenar todos los datasets en uno\n",
    "- Haremos train y test de este nuevo dataset"
   ]
  },
  {
   "cell_type": "code",
   "execution_count": null,
   "metadata": {},
   "outputs": [],
   "source": [
    "# Lista de los conjuntos de datos a concatenar\n",
    "datasets_to_concatenate = [adata_janosevic_filtrado, adata_kirita_filtrado, adata_miao_filtrado, adata_park_filtrado]\n",
    "\n",
    "# Concatenar los conjuntos de datos\n",
    "adata_completo = concatenate_anndata(datasets_to_concatenate)"
   ]
  },
  {
   "cell_type": "markdown",
   "metadata": {},
   "source": [
    "### Concatenar todos los datasets menos park (lo usaremos como test)"
   ]
  },
  {
   "cell_type": "code",
   "execution_count": null,
   "metadata": {},
   "outputs": [],
   "source": [
    "# Lista de los conjuntos de datos a concatenar\n",
    "datasets_to_concatenate = [adata_janosevic_filtrado, adata_kirita_filtrado, adata_miao_filtrado]\n",
    "\n",
    "# Concatenar los conjuntos de datos\n",
    "adata_semi_completo = concatenate_anndata(datasets_to_concatenate)"
   ]
  },
  {
   "cell_type": "markdown",
   "metadata": {},
   "source": [
    "### Guardamos los dataser en directorio"
   ]
  },
  {
   "cell_type": "code",
   "execution_count": null,
   "metadata": {},
   "outputs": [],
   "source": [
    "# Guardar los datasets filtrados\n",
    "adata_completo.write(ruta_salida + 'adata_selected_dt4_10cl_01.h5ad')\n",
    "adata_semi_completo.write(ruta_salida + 'adata_selected_dt3_10cl_01.h5ad')\n",
    "adata_park_filtrado.write(ruta_salida + 'adata_selected_park_10cl_01.h5ad')"
   ]
  },
  {
   "cell_type": "code",
   "execution_count": null,
   "metadata": {},
   "outputs": [],
   "source": [
    "adata_1_1 = sc.read_h5ad(\"/home/a/Escritorio/TFM/src/NSForest/data/data_selection/adata_selected_dt7_6cl.h5ad\")\n",
    "adata_1_2 = sc.read_h5ad(\"/home/a/Escritorio/TFM/src/NSForest/data/data_selection/adata_selected_dt6_6cl.h5ad\")\n",
    "adata_1_3 = sc.read_h5ad(\"/home/a/Escritorio/TFM/src/NSForest/data/data_selection/adata_selected_wu_6cl.h5ad\")\n",
    "adata_2_1 = sc.read_h5ad(\"/home/a/Escritorio/TFM/src/NSForest/data/data_selection/adata_selected_dt5_10cl.h5ad\")\n",
    "adata_2_2 = sc.read_h5ad(\"/home/a/Escritorio/TFM/src/NSForest/data/data_selection/adata_selected_dt4_10cl.h5ad\")\n",
    "adata_2_3 = sc.read_h5ad(\"/home/a/Escritorio/TFM/src/NSForest/data/data_selection/adata_selected_miao_10cl.h5ad\")\n",
    "adata_3_1 = sc.read_h5ad(\"/home/a/Escritorio/TFM/src/NSForest/data/data_selection/adata_selected_dt4_10cl_01.h5ad\")\n",
    "adata_3_2 = sc.read_h5ad(\"/home/a/Escritorio/TFM/src/NSForest/data/data_selection/adata_selected_dt3_10cl_01.h5ad\")\n",
    "adata_3_3 = sc.read_h5ad(\"/home/a/Escritorio/TFM/src/NSForest/data/data_selection/adata_selected_park_10cl_01.h5ad\")"
   ]
  },
  {
   "cell_type": "markdown",
   "metadata": {},
   "source": [
    "### Unimos todos los datasets siguientes menos uno que lo dejaremos para test:\n",
    "conway, hinze,\tjanosevic,\tkirita,\tmiao y park:\n",
    "- T cell\n",
    "- endothelial cell\n",
    "- epithelial cell of proximal tubule\n",
    "- kidney collecting duct principal cell\t\n",
    "- kidney connecting tubule epithelial cell\n",
    "- kidney distal convoluted tubule epithelial cell\n",
    "- kidney loop of Henle cortical thick ascending limb epithelial cell\t\n",
    "- kidney loop of Henle epithelial cell\n",
    "- kidney loop of Henle medullary thick ascending limb epithelial cell\n",
    "- renal beta-intercalated cell"
   ]
  },
  {
   "cell_type": "code",
   "execution_count": 11,
   "metadata": {},
   "outputs": [],
   "source": [
    "clases_interesantes = ['T cell',\n",
    "                       'endothelial cell',\n",
    "                       'epithelial cell of proximal tubule',\n",
    "                       'kidney collecting duct principal cell',\n",
    "                       'kidney connecting tubule epithelial cell',\n",
    "                       'kidney distal convoluted tubule epithelial cell',\n",
    "                       'kidney loop of Henle cortical thick ascending limb epithelial cell',\n",
    "                       'kidney loop of Henle epithelial cell',\n",
    "                       'kidney loop of Henle medullary thick ascending limb epithelial cell',\n",
    "                       'renal beta-intercalated cell']\n",
    "\n",
    "# Aplicar el filtro para cada conjunto de datos\n",
    "adata_conway_filtrado = adata_conway[adata_conway.obs['cell_type'].isin(clases_interesantes)]\n",
    "adata_hinze_filtrado = adata_hinze[adata_hinze.obs['cell_type'].isin(clases_interesantes)]\n",
    "adata_janosevic_filtrado = adata_janosevic[adata_janosevic.obs['cell_type'].isin(clases_interesantes)]\n",
    "adata_kirita_filtrado = adata_kirita[adata_kirita.obs['cell_type'].isin(clases_interesantes)]\n",
    "adata_miao_filtrado = adata_miao[adata_miao.obs['cell_type'].isin(clases_interesantes)]\n",
    "adata_park_filtrado = adata_park[adata_park.obs['cell_type'].isin(clases_interesantes)]"
   ]
  },
  {
   "cell_type": "code",
   "execution_count": 20,
   "metadata": {},
   "outputs": [
    {
     "name": "stderr",
     "output_type": "stream",
     "text": [
      "/home/a/.local/lib/python3.8/site-packages/anndata/_core/anndata.py:1763: FutureWarning: The AnnData.concatenate method is deprecated in favour of the anndata.concat function. Please use anndata.concat instead.\n",
      "\n",
      "See the tutorial for concat at: https://anndata.readthedocs.io/en/latest/concatenation.html\n",
      "  warnings.warn(\n",
      "/home/a/.local/lib/python3.8/site-packages/anndata/_core/anndata.py:1763: FutureWarning: The AnnData.concatenate method is deprecated in favour of the anndata.concat function. Please use anndata.concat instead.\n",
      "\n",
      "See the tutorial for concat at: https://anndata.readthedocs.io/en/latest/concatenation.html\n",
      "  warnings.warn(\n",
      "/home/a/.local/lib/python3.8/site-packages/anndata/_core/anndata.py:1763: FutureWarning: The AnnData.concatenate method is deprecated in favour of the anndata.concat function. Please use anndata.concat instead.\n",
      "\n",
      "See the tutorial for concat at: https://anndata.readthedocs.io/en/latest/concatenation.html\n",
      "  warnings.warn(\n",
      "/home/a/.local/lib/python3.8/site-packages/anndata/_core/anndata.py:1763: FutureWarning: The AnnData.concatenate method is deprecated in favour of the anndata.concat function. Please use anndata.concat instead.\n",
      "\n",
      "See the tutorial for concat at: https://anndata.readthedocs.io/en/latest/concatenation.html\n",
      "  warnings.warn(\n",
      "/home/a/.local/lib/python3.8/site-packages/anndata/_core/anndata.py:1763: FutureWarning: The AnnData.concatenate method is deprecated in favour of the anndata.concat function. Please use anndata.concat instead.\n",
      "\n",
      "See the tutorial for concat at: https://anndata.readthedocs.io/en/latest/concatenation.html\n",
      "  warnings.warn(\n",
      "/home/a/.local/lib/python3.8/site-packages/anndata/_core/anndata.py:1763: FutureWarning: The AnnData.concatenate method is deprecated in favour of the anndata.concat function. Please use anndata.concat instead.\n",
      "\n",
      "See the tutorial for concat at: https://anndata.readthedocs.io/en/latest/concatenation.html\n",
      "  warnings.warn(\n"
     ]
    }
   ],
   "source": [
    "# Lista de los conjuntos de datos a concatenar\n",
    "datasets_to_concatenate = [adata_conway_filtrado, adata_hinze_filtrado, adata_janosevic_filtrado,\n",
    "                           adata_kirita_filtrado, adata_miao_filtrado]\n",
    "\n",
    "# Concatenar los conjuntos de datos\n",
    "adata_switched_1 = concatenate_anndata(datasets_to_concatenate)\n",
    "\n",
    "datasets_to_concatenate = [adata_conway_filtrado, adata_hinze_filtrado, adata_janosevic_filtrado,\n",
    "                           adata_kirita_filtrado, adata_park_filtrado]\n",
    "\n",
    "# Concatenar los conjuntos de datos\n",
    "adata_switched_2 = concatenate_anndata(datasets_to_concatenate)\n",
    "\n",
    "datasets_to_concatenate = [adata_conway_filtrado, adata_hinze_filtrado,adata_janosevic_filtrado,\n",
    "                           adata_miao_filtrado, adata_park_filtrado]\n",
    "\n",
    "# Concatenar los conjuntos de datos\n",
    "adata_switched_3 = concatenate_anndata(datasets_to_concatenate)\n",
    "\n",
    "datasets_to_concatenate = [adata_conway_filtrado, adata_hinze_filtrado, adata_kirita_filtrado,\n",
    "                           adata_miao_filtrado, adata_park_filtrado]\n",
    "\n",
    "# Concatenar los conjuntos de datos\n",
    "adata_switched_4 = concatenate_anndata(datasets_to_concatenate)\n",
    "\n",
    "datasets_to_concatenate = [adata_conway_filtrado, adata_janosevic_filtrado, adata_kirita_filtrado,\n",
    "                           adata_miao_filtrado, adata_park_filtrado]\n",
    "\n",
    "# Concatenar los conjuntos de datos\n",
    "adata_switched_5 = concatenate_anndata(datasets_to_concatenate)\n",
    "\n",
    "datasets_to_concatenate = [adata_hinze_filtrado, adata_janosevic_filtrado, adata_kirita_filtrado,\n",
    "                           adata_miao_filtrado, adata_park_filtrado]\n",
    "\n",
    "# Concatenar los conjuntos de datos\n",
    "adata_switched_6 = concatenate_anndata(datasets_to_concatenate)"
   ]
  },
  {
   "cell_type": "markdown",
   "metadata": {},
   "source": [
    "### Guardamos los dataser en directorio"
   ]
  },
  {
   "cell_type": "code",
   "execution_count": 21,
   "metadata": {},
   "outputs": [],
   "source": [
    "ruta_salida = \"/home/a/Escritorio/TFM/src/NSForest/data/data_final_selection/\"\n",
    "\n",
    "adata_switched_1.write(ruta_salida + 'adata_switched_1.h5ad') #unión de conway, hinze, janosevic, kirita y miao\n",
    "adata_switched_2.write(ruta_salida + 'adata_switched_2.h5ad') #unión de conway, hinze, janosevic, kirita y park\n",
    "adata_switched_3.write(ruta_salida + 'adata_switched_3.h5ad') #unión de conway, hinze, janosevic, miao y park\n",
    "adata_switched_4.write(ruta_salida + 'adata_switched_4.h5ad') #unión de conway, hinze, kirita, miao y park\n",
    "adata_switched_5.write(ruta_salida + 'adata_switched_5.h5ad') #unión de conway, janosevic, kirita, miao y park\n",
    "adata_switched_6.write(ruta_salida + 'adata_switched_6.h5ad') #unión de hinze, janosevic, kirita, miao y park\n",
    "\n",
    "adata_conway_filtrado.write(ruta_salida + 'adata_selected_conway_10cl.h5ad')\n",
    "adata_hinze_filtrado.write(ruta_salida + 'adata_selected_hinze_10cl.h5ad')\n",
    "adata_janosevic_filtrado.write(ruta_salida + 'adata_selected_janosevic_10cl.h5ad')\n",
    "adata_kirita_filtrado.write(ruta_salida + 'adata_selected_kirita_10cl.h5ad')\n",
    "adata_miao_filtrado.write(ruta_salida + 'adata_selected_miao_10cl.h5ad')\n",
    "adata_park_filtrado.write(ruta_salida + 'adata_selected_park_10cl.h5ad')"
   ]
  },
  {
   "cell_type": "markdown",
   "metadata": {},
   "source": [
    "### Confirmamos que la selección se ha realizado correctamente"
   ]
  },
  {
   "cell_type": "code",
   "execution_count": 22,
   "metadata": {},
   "outputs": [
    {
     "name": "stdout",
     "output_type": "stream",
     "text": [
      "El número total de instancias en el dataset adata_switched_1 es: 87122\n",
      "El número total de instancias en el dataset adata_switched_2 es: 88424\n",
      "El número total de instancias en el dataset adata_switched_3 es: 86698\n",
      "El número total de instancias en el dataset adata_switched_4 es: 101344\n",
      "El número total de instancias en el dataset adata_switched_5 es: 82125\n",
      "El número total de instancias en el dataset adata_switched_6 es: 104662\n",
      "El número total de instancias en el dataset adata_conway_filtrado es: 5413\n",
      "El número total de instancias en el dataset adata_hinze_filtrado es: 27950\n",
      "El número total de instancias en el dataset adata_janosevic_filtrado es: 8731\n",
      "El número total de instancias en el dataset adata_kirita_filtrado es: 23377\n",
      "El número total de instancias en el dataset adata_miao_filtrado es: 21651\n",
      "El número total de instancias en el dataset adata_park_filtrado es: 22953\n"
     ]
    }
   ],
   "source": [
    "# Lista de variables que contienen los datasets\n",
    "datasets = [adata_switched_1, adata_switched_2, adata_switched_3, adata_switched_4, adata_switched_5, adata_switched_6,\n",
    "            adata_conway_filtrado, adata_hinze_filtrado, adata_janosevic_filtrado, adata_kirita_filtrado, adata_miao_filtrado,\n",
    "            adata_park_filtrado]\n",
    "\n",
    "# Lista de nombres de los datasets\n",
    "nombres_datasets = ['adata_switched_1', 'adata_switched_2', 'adata_switched_3', 'adata_switched_4', 'adata_switched_5', 'adata_switched_6',\n",
    "                     'adata_conway_filtrado', 'adata_hinze_filtrado', 'adata_janosevic_filtrado', 'adata_kirita_filtrado', 'adata_miao_filtrado',\n",
    "                     'adata_park_filtrado']\n",
    "\n",
    "# Realizar análisis descriptivos y visualizaciones para cada dataset\n",
    "for dataset, nombre in zip(datasets, nombres_datasets):\n",
    "    if dataset is not None:  # Verificar si dataset no es None\n",
    "        # Obtener el conteo de instancias por clase\n",
    "        conteo_por_clase = dataset.obs['cell_type'].value_counts()\n",
    "        \n",
    "        # Calcular el número total de instancias sumando el conteo de instancias por clase\n",
    "        total_instancias = conteo_por_clase.sum()\n",
    "        \n",
    "        print(f\"El número total de instancias en el dataset {nombre} es: {total_instancias}\")"
   ]
  },
  {
   "cell_type": "code",
   "execution_count": 23,
   "metadata": {},
   "outputs": [
    {
     "name": "stdout",
     "output_type": "stream",
     "text": [
      "El número de columnas en el dataset adata_switched_1 es: 16653\n",
      "El número de columnas en el dataset adata_switched_2 es: 16653\n",
      "El número de columnas en el dataset adata_switched_3 es: 16653\n",
      "El número de columnas en el dataset adata_switched_4 es: 16653\n",
      "El número de columnas en el dataset adata_switched_5 es: 16653\n",
      "El número de columnas en el dataset adata_switched_6 es: 16653\n",
      "El número de columnas en el dataset adata_conway_filtrado es: 16653\n",
      "El número de columnas en el dataset adata_hinze_filtrado es: 16653\n",
      "El número de columnas en el dataset adata_janosevic_filtrado es: 16653\n",
      "El número de columnas en el dataset adata_kirita_filtrado es: 16653\n",
      "El número de columnas en el dataset adata_miao_filtrado es: 16653\n",
      "El número de columnas en el dataset adata_park_filtrado es: 16653\n"
     ]
    }
   ],
   "source": [
    "# Realizar análisis descriptivos y visualizaciones para cada dataset\n",
    "for dataset, nombre in zip(datasets, nombres_datasets):\n",
    "    if dataset is not None:  # Verificar si dataset no es None\n",
    "        # Obtener el número de columnas\n",
    "        num_columnas = dataset.X.shape[1]\n",
    "        \n",
    "        print(f\"El número de columnas en el dataset {nombre} es: {num_columnas}\")"
   ]
  },
  {
   "cell_type": "code",
   "execution_count": 24,
   "metadata": {},
   "outputs": [
    {
     "name": "stdout",
     "output_type": "stream",
     "text": [
      "El número total de instancias en el dataset adata_switched_1 es: 87122\n",
      "El conteo de instancias por clase en el dataset adata_switched_1 es:\n",
      "cell_type\n",
      "epithelial cell of proximal tubule                                     53164\n",
      "kidney distal convoluted tubule epithelial cell                        10865\n",
      "endothelial cell                                                        4492\n",
      "kidney collecting duct principal cell                                   4330\n",
      "kidney loop of Henle medullary thick ascending limb epithelial cell     3391\n",
      "kidney loop of Henle cortical thick ascending limb epithelial cell      3285\n",
      "kidney loop of Henle epithelial cell                                    2684\n",
      "kidney connecting tubule epithelial cell                                2531\n",
      "renal beta-intercalated cell                                            1492\n",
      "T cell                                                                   888\n",
      "Name: count, dtype: int64\n"
     ]
    }
   ],
   "source": [
    "# Dataset específico a analizar\n",
    "dataset = adata_switched_1\n",
    "nombre = 'adata_switched_1'\n",
    "\n",
    "# Verificar si el dataset no es None\n",
    "if dataset is not None:\n",
    "    # Obtener el conteo de instancias por clase\n",
    "    conteo_por_clase = dataset.obs['cell_type'].value_counts()\n",
    "    \n",
    "    # Calcular el número total de instancias sumando el conteo de instancias por clase\n",
    "    total_instancias = conteo_por_clase.sum()\n",
    "    \n",
    "    print(f\"El número total de instancias en el dataset {nombre} es: {total_instancias}\")\n",
    "    \n",
    "    # Mostrar el conteo de instancias por clase\n",
    "    print(f\"El conteo de instancias por clase en el dataset {nombre} es:\")\n",
    "    print(conteo_por_clase)\n",
    "else:\n",
    "    print(f\"El dataset {nombre} es None\")"
   ]
  },
  {
   "cell_type": "code",
   "execution_count": 25,
   "metadata": {},
   "outputs": [
    {
     "name": "stdout",
     "output_type": "stream",
     "text": [
      "El número total de instancias en el dataset adata_switched_2 es: 88424\n",
      "El conteo de instancias por clase en el dataset adata_switched_2 es:\n",
      "cell_type\n",
      "epithelial cell of proximal tubule                                     53484\n",
      "kidney distal convoluted tubule epithelial cell                         9419\n",
      "endothelial cell                                                        4944\n",
      "kidney collecting duct principal cell                                   4154\n",
      "kidney loop of Henle medullary thick ascending limb epithelial cell     3770\n",
      "kidney loop of Henle cortical thick ascending limb epithelial cell      3519\n",
      "kidney connecting tubule epithelial cell                                3089\n",
      "kidney loop of Henle epithelial cell                                    3072\n",
      "renal beta-intercalated cell                                            1754\n",
      "T cell                                                                  1219\n",
      "Name: count, dtype: int64\n"
     ]
    }
   ],
   "source": [
    "# Dataset específico a analizar\n",
    "dataset = adata_switched_2\n",
    "nombre = 'adata_switched_2'\n",
    "\n",
    "# Verificar si el dataset no es None\n",
    "if dataset is not None:\n",
    "    # Obtener el conteo de instancias por clase\n",
    "    conteo_por_clase = dataset.obs['cell_type'].value_counts()\n",
    "    \n",
    "    # Calcular el número total de instancias sumando el conteo de instancias por clase\n",
    "    total_instancias = conteo_por_clase.sum()\n",
    "    \n",
    "    print(f\"El número total de instancias en el dataset {nombre} es: {total_instancias}\")\n",
    "    \n",
    "    # Mostrar el conteo de instancias por clase\n",
    "    print(f\"El conteo de instancias por clase en el dataset {nombre} es:\")\n",
    "    print(conteo_por_clase)\n",
    "else:\n",
    "    print(f\"El dataset {nombre} es None\")"
   ]
  },
  {
   "cell_type": "code",
   "execution_count": 26,
   "metadata": {},
   "outputs": [
    {
     "name": "stdout",
     "output_type": "stream",
     "text": [
      "El número total de instancias en el dataset adata_switched_3 es: 86698\n",
      "El conteo de instancias por clase en el dataset adata_switched_3 es:\n",
      "cell_type\n",
      "epithelial cell of proximal tubule                                     55738\n",
      "kidney distal convoluted tubule epithelial cell                        14306\n",
      "kidney collecting duct principal cell                                   3086\n",
      "kidney connecting tubule epithelial cell                                2371\n",
      "endothelial cell                                                        2291\n",
      "kidney loop of Henle epithelial cell                                    2056\n",
      "kidney loop of Henle medullary thick ascending limb epithelial cell     1886\n",
      "renal beta-intercalated cell                                            1772\n",
      "T cell                                                                  1616\n",
      "kidney loop of Henle cortical thick ascending limb epithelial cell      1576\n",
      "Name: count, dtype: int64\n"
     ]
    }
   ],
   "source": [
    "# Dataset específico a analizar\n",
    "dataset = adata_switched_3\n",
    "nombre = 'adata_switched_3'\n",
    "\n",
    "# Verificar si el dataset no es None\n",
    "if dataset is not None:\n",
    "    # Obtener el conteo de instancias por clase\n",
    "    conteo_por_clase = dataset.obs['cell_type'].value_counts()\n",
    "    \n",
    "    # Calcular el número total de instancias sumando el conteo de instancias por clase\n",
    "    total_instancias = conteo_por_clase.sum()\n",
    "    \n",
    "    print(f\"El número total de instancias en el dataset {nombre} es: {total_instancias}\")\n",
    "    \n",
    "    # Mostrar el conteo de instancias por clase\n",
    "    print(f\"El conteo de instancias por clase en el dataset {nombre} es:\")\n",
    "    print(conteo_por_clase)\n",
    "else:\n",
    "    print(f\"El dataset {nombre} es None\")"
   ]
  },
  {
   "cell_type": "code",
   "execution_count": 27,
   "metadata": {},
   "outputs": [
    {
     "name": "stdout",
     "output_type": "stream",
     "text": [
      "El número total de instancias en el dataset adata_switched_4 es: 101344\n",
      "El conteo de instancias por clase en el dataset adata_switched_4 es:\n",
      "cell_type\n",
      "epithelial cell of proximal tubule                                     60372\n",
      "kidney distal convoluted tubule epithelial cell                        14792\n",
      "endothelial cell                                                        4599\n",
      "kidney collecting duct principal cell                                   4541\n",
      "kidney loop of Henle medullary thick ascending limb epithelial cell     3715\n",
      "kidney loop of Henle cortical thick ascending limb epithelial cell      3484\n",
      "kidney connecting tubule epithelial cell                                3156\n",
      "kidney loop of Henle epithelial cell                                    3100\n",
      "renal beta-intercalated cell                                            2090\n",
      "T cell                                                                  1495\n",
      "Name: count, dtype: int64\n"
     ]
    }
   ],
   "source": [
    "# Dataset específico a analizar\n",
    "dataset = adata_switched_4\n",
    "nombre = 'adata_switched_4'\n",
    "\n",
    "# Verificar si el dataset no es None\n",
    "if dataset is not None:\n",
    "    # Obtener el conteo de instancias por clase\n",
    "    conteo_por_clase = dataset.obs['cell_type'].value_counts()\n",
    "    \n",
    "    # Calcular el número total de instancias sumando el conteo de instancias por clase\n",
    "    total_instancias = conteo_por_clase.sum()\n",
    "    \n",
    "    print(f\"El número total de instancias en el dataset {nombre} es: {total_instancias}\")\n",
    "    \n",
    "    # Mostrar el conteo de instancias por clase\n",
    "    print(f\"El conteo de instancias por clase en el dataset {nombre} es:\")\n",
    "    print(conteo_por_clase)\n",
    "else:\n",
    "    print(f\"El dataset {nombre} es None\")"
   ]
  },
  {
   "cell_type": "code",
   "execution_count": 28,
   "metadata": {},
   "outputs": [
    {
     "name": "stdout",
     "output_type": "stream",
     "text": [
      "El número total de instancias en el dataset adata_switched_5 es: 82125\n",
      "El conteo de instancias por clase en el dataset adata_switched_5 es:\n",
      "cell_type\n",
      "epithelial cell of proximal tubule                                     47069\n",
      "kidney distal convoluted tubule epithelial cell                        13767\n",
      "endothelial cell                                                        4349\n",
      "kidney loop of Henle epithelial cell                                    3043\n",
      "kidney loop of Henle cortical thick ascending limb epithelial cell      2799\n",
      "kidney collecting duct principal cell                                   2760\n",
      "kidney loop of Henle medullary thick ascending limb epithelial cell     2651\n",
      "kidney connecting tubule epithelial cell                                2328\n",
      "T cell                                                                  1698\n",
      "renal beta-intercalated cell                                            1661\n",
      "Name: count, dtype: int64\n"
     ]
    }
   ],
   "source": [
    "# Dataset específico a analizar\n",
    "dataset = adata_switched_5\n",
    "nombre = 'adata_switched_5'\n",
    "\n",
    "# Verificar si el dataset no es None\n",
    "if dataset is not None:\n",
    "    # Obtener el conteo de instancias por clase\n",
    "    conteo_por_clase = dataset.obs['cell_type'].value_counts()\n",
    "    \n",
    "    # Calcular el número total de instancias sumando el conteo de instancias por clase\n",
    "    total_instancias = conteo_por_clase.sum()\n",
    "    \n",
    "    print(f\"El número total de instancias en el dataset {nombre} es: {total_instancias}\")\n",
    "    \n",
    "    # Mostrar el conteo de instancias por clase\n",
    "    print(f\"El conteo de instancias por clase en el dataset {nombre} es:\")\n",
    "    print(conteo_por_clase)\n",
    "else:\n",
    "    print(f\"El dataset {nombre} es None\")"
   ]
  },
  {
   "cell_type": "code",
   "execution_count": 29,
   "metadata": {},
   "outputs": [
    {
     "name": "stdout",
     "output_type": "stream",
     "text": [
      "El número total de instancias en el dataset adata_switched_6 es: 104662\n",
      "El conteo de instancias por clase en el dataset adata_switched_6 es:\n",
      "cell_type\n",
      "epithelial cell of proximal tubule                                     61753\n",
      "kidney distal convoluted tubule epithelial cell                        15626\n",
      "endothelial cell                                                        4975\n",
      "kidney collecting duct principal cell                                   4624\n",
      "kidney loop of Henle medullary thick ascending limb epithelial cell     3772\n",
      "kidney loop of Henle epithelial cell                                    3430\n",
      "kidney connecting tubule epithelial cell                                3335\n",
      "kidney loop of Henle cortical thick ascending limb epithelial cell      3312\n",
      "renal beta-intercalated cell                                            2146\n",
      "T cell                                                                  1689\n",
      "Name: count, dtype: int64\n"
     ]
    }
   ],
   "source": [
    "# Dataset específico a analizar\n",
    "dataset = adata_switched_6\n",
    "nombre = 'adata_switched_6'\n",
    "\n",
    "# Verificar si el dataset no es None\n",
    "if dataset is not None:\n",
    "    # Obtener el conteo de instancias por clase\n",
    "    conteo_por_clase = dataset.obs['cell_type'].value_counts()\n",
    "    \n",
    "    # Calcular el número total de instancias sumando el conteo de instancias por clase\n",
    "    total_instancias = conteo_por_clase.sum()\n",
    "    \n",
    "    print(f\"El número total de instancias en el dataset {nombre} es: {total_instancias}\")\n",
    "    \n",
    "    # Mostrar el conteo de instancias por clase\n",
    "    print(f\"El conteo de instancias por clase en el dataset {nombre} es:\")\n",
    "    print(conteo_por_clase)\n",
    "else:\n",
    "    print(f\"El dataset {nombre} es None\")"
   ]
  },
  {
   "cell_type": "code",
   "execution_count": 30,
   "metadata": {},
   "outputs": [
    {
     "name": "stdout",
     "output_type": "stream",
     "text": [
      "El número total de instancias en el dataset adata_conway_filtrado es: 5413\n",
      "El conteo de instancias por clase en el dataset adata_conway_filtrado es:\n",
      "cell_type\n",
      "epithelial cell of proximal tubule                                     4563\n",
      "kidney loop of Henle cortical thick ascending limb epithelial cell      283\n",
      "endothelial cell                                                        155\n",
      "kidney distal convoluted tubule epithelial cell                         129\n",
      "kidney collecting duct principal cell                                    75\n",
      "kidney loop of Henle medullary thick ascending limb epithelial cell      65\n",
      "kidney loop of Henle epithelial cell                                     47\n",
      "renal beta-intercalated cell                                             37\n",
      "T cell                                                                   32\n",
      "kidney connecting tubule epithelial cell                                 27\n",
      "Name: count, dtype: int64\n"
     ]
    }
   ],
   "source": [
    "# Dataset específico a analizar\n",
    "dataset = adata_conway_filtrado\n",
    "nombre = 'adata_conway_filtrado'\n",
    "\n",
    "# Verificar si el dataset no es None\n",
    "if dataset is not None:\n",
    "    # Obtener el conteo de instancias por clase\n",
    "    conteo_por_clase = dataset.obs['cell_type'].value_counts()\n",
    "    \n",
    "    # Calcular el número total de instancias sumando el conteo de instancias por clase\n",
    "    total_instancias = conteo_por_clase.sum()\n",
    "    \n",
    "    print(f\"El número total de instancias en el dataset {nombre} es: {total_instancias}\")\n",
    "    \n",
    "    # Mostrar el conteo de instancias por clase\n",
    "    print(f\"El conteo de instancias por clase en el dataset {nombre} es:\")\n",
    "    print(conteo_por_clase)\n",
    "else:\n",
    "    print(f\"El dataset {nombre} es None\")"
   ]
  },
  {
   "cell_type": "code",
   "execution_count": 31,
   "metadata": {},
   "outputs": [
    {
     "name": "stdout",
     "output_type": "stream",
     "text": [
      "El número total de instancias en el dataset adata_hinze_filtrado es: 27950\n",
      "El conteo de instancias por clase en el dataset adata_hinze_filtrado es:\n",
      "cell_type\n",
      "epithelial cell of proximal tubule                                     19247\n",
      "kidney distal convoluted tubule epithelial cell                         1988\n",
      "kidney collecting duct principal cell                                   1939\n",
      "kidney loop of Henle medullary thick ascending limb epithelial cell     1186\n",
      "kidney connecting tubule epithelial cell                                1034\n",
      "kidney loop of Henle cortical thick ascending limb epithelial cell       796\n",
      "endothelial cell                                                         781\n",
      "renal beta-intercalated cell                                             522\n",
      "kidney loop of Henle epithelial cell                                     434\n",
      "T cell                                                                    23\n",
      "Name: count, dtype: int64\n"
     ]
    }
   ],
   "source": [
    "# Dataset específico a analizar\n",
    "dataset = adata_hinze_filtrado\n",
    "nombre = 'adata_hinze_filtrado'\n",
    "\n",
    "# Verificar si el dataset no es None\n",
    "if dataset is not None:\n",
    "    # Obtener el conteo de instancias por clase\n",
    "    conteo_por_clase = dataset.obs['cell_type'].value_counts()\n",
    "    \n",
    "    # Calcular el número total de instancias sumando el conteo de instancias por clase\n",
    "    total_instancias = conteo_por_clase.sum()\n",
    "    \n",
    "    print(f\"El número total de instancias en el dataset {nombre} es: {total_instancias}\")\n",
    "    \n",
    "    # Mostrar el conteo de instancias por clase\n",
    "    print(f\"El conteo de instancias por clase en el dataset {nombre} es:\")\n",
    "    print(conteo_por_clase)\n",
    "else:\n",
    "    print(f\"El dataset {nombre} es None\")"
   ]
  },
  {
   "cell_type": "code",
   "execution_count": 32,
   "metadata": {},
   "outputs": [
    {
     "name": "stdout",
     "output_type": "stream",
     "text": [
      "El número total de instancias en el dataset adata_janosevic_filtrado es: 8731\n",
      "El conteo de instancias por clase en el dataset adata_janosevic_filtrado es:\n",
      "cell_type\n",
      "epithelial cell of proximal tubule                                     5944\n",
      "kidney distal convoluted tubule epithelial cell                         963\n",
      "endothelial cell                                                        531\n",
      "kidney loop of Henle epithelial cell                                    377\n",
      "T cell                                                                  226\n",
      "kidney connecting tubule epithelial cell                                206\n",
      "kidney collecting duct principal cell                                   158\n",
      "kidney loop of Henle medullary thick ascending limb epithelial cell     122\n",
      "kidney loop of Henle cortical thick ascending limb epithelial cell      111\n",
      "renal beta-intercalated cell                                             93\n",
      "Name: count, dtype: int64\n"
     ]
    }
   ],
   "source": [
    "# Dataset específico a analizar\n",
    "dataset = adata_janosevic_filtrado\n",
    "nombre = 'adata_janosevic_filtrado'\n",
    "\n",
    "# Verificar si el dataset no es None\n",
    "if dataset is not None:\n",
    "    # Obtener el conteo de instancias por clase\n",
    "    conteo_por_clase = dataset.obs['cell_type'].value_counts()\n",
    "    \n",
    "    # Calcular el número total de instancias sumando el conteo de instancias por clase\n",
    "    total_instancias = conteo_por_clase.sum()\n",
    "    \n",
    "    print(f\"El número total de instancias en el dataset {nombre} es: {total_instancias}\")\n",
    "    \n",
    "    # Mostrar el conteo de instancias por clase\n",
    "    print(f\"El conteo de instancias por clase en el dataset {nombre} es:\")\n",
    "    print(conteo_por_clase)\n",
    "else:\n",
    "    print(f\"El dataset {nombre} es None\")"
   ]
  },
  {
   "cell_type": "code",
   "execution_count": 33,
   "metadata": {},
   "outputs": [
    {
     "name": "stdout",
     "output_type": "stream",
     "text": [
      "El número total de instancias en el dataset adata_kirita_filtrado es: 23377\n",
      "El conteo de instancias por clase en el dataset adata_kirita_filtrado es:\n",
      "cell_type\n",
      "epithelial cell of proximal tubule                                     10578\n",
      "endothelial cell                                                        2839\n",
      "kidney loop of Henle cortical thick ascending limb epithelial cell      2019\n",
      "kidney loop of Henle medullary thick ascending limb epithelial cell     1951\n",
      "kidney collecting duct principal cell                                   1613\n",
      "kidney distal convoluted tubule epithelial cell                         1449\n",
      "kidney loop of Henle epithelial cell                                    1421\n",
      "kidney connecting tubule epithelial cell                                 991\n",
      "renal beta-intercalated cell                                             411\n",
      "T cell                                                                   105\n",
      "Name: count, dtype: int64\n"
     ]
    }
   ],
   "source": [
    "# Dataset específico a analizar\n",
    "dataset = adata_kirita_filtrado\n",
    "nombre = 'adata_kirita_filtrado'\n",
    "\n",
    "# Verificar si el dataset no es None\n",
    "if dataset is not None:\n",
    "    # Obtener el conteo de instancias por clase\n",
    "    conteo_por_clase = dataset.obs['cell_type'].value_counts()\n",
    "    \n",
    "    # Calcular el número total de instancias sumando el conteo de instancias por clase\n",
    "    total_instancias = conteo_por_clase.sum()\n",
    "    \n",
    "    print(f\"El número total de instancias en el dataset {nombre} es: {total_instancias}\")\n",
    "    \n",
    "    # Mostrar el conteo de instancias por clase\n",
    "    print(f\"El conteo de instancias por clase en el dataset {nombre} es:\")\n",
    "    print(conteo_por_clase)\n",
    "else:\n",
    "    print(f\"El dataset {nombre} es None\")"
   ]
  },
  {
   "cell_type": "code",
   "execution_count": 34,
   "metadata": {},
   "outputs": [
    {
     "name": "stdout",
     "output_type": "stream",
     "text": [
      "El número total de instancias en el dataset adata_miao_filtrado es: 21651\n",
      "El conteo de instancias por clase en el dataset adata_miao_filtrado es:\n",
      "cell_type\n",
      "epithelial cell of proximal tubule                                     12832\n",
      "kidney distal convoluted tubule epithelial cell                         6336\n",
      "kidney collecting duct principal cell                                    545\n",
      "T cell                                                                   502\n",
      "renal beta-intercalated cell                                             429\n",
      "kidney loop of Henle epithelial cell                                     405\n",
      "kidney connecting tubule epithelial cell                                 273\n",
      "endothelial cell                                                         186\n",
      "kidney loop of Henle cortical thick ascending limb epithelial cell        76\n",
      "kidney loop of Henle medullary thick ascending limb epithelial cell       67\n",
      "Name: count, dtype: int64\n"
     ]
    }
   ],
   "source": [
    "# Dataset específico a analizar\n",
    "dataset = adata_miao_filtrado\n",
    "nombre = 'adata_miao_filtrado'\n",
    "\n",
    "# Verificar si el dataset no es None\n",
    "if dataset is not None:\n",
    "    # Obtener el conteo de instancias por clase\n",
    "    conteo_por_clase = dataset.obs['cell_type'].value_counts()\n",
    "    \n",
    "    # Calcular el número total de instancias sumando el conteo de instancias por clase\n",
    "    total_instancias = conteo_por_clase.sum()\n",
    "    \n",
    "    print(f\"El número total de instancias en el dataset {nombre} es: {total_instancias}\")\n",
    "    \n",
    "    # Mostrar el conteo de instancias por clase\n",
    "    print(f\"El conteo de instancias por clase en el dataset {nombre} es:\")\n",
    "    print(conteo_por_clase)\n",
    "else:\n",
    "    print(f\"El dataset {nombre} es None\")"
   ]
  },
  {
   "cell_type": "code",
   "execution_count": 35,
   "metadata": {},
   "outputs": [
    {
     "name": "stdout",
     "output_type": "stream",
     "text": [
      "El número total de instancias en el dataset adata_park_filtrado es: 22953\n",
      "El conteo de instancias por clase en el dataset adata_park_filtrado es:\n",
      "cell_type\n",
      "epithelial cell of proximal tubule                                     13152\n",
      "kidney distal convoluted tubule epithelial cell                         4890\n",
      "T cell                                                                   833\n",
      "kidney connecting tubule epithelial cell                                 831\n",
      "kidney loop of Henle epithelial cell                                     793\n",
      "renal beta-intercalated cell                                             691\n",
      "endothelial cell                                                         638\n",
      "kidney loop of Henle medullary thick ascending limb epithelial cell      446\n",
      "kidney collecting duct principal cell                                    369\n",
      "kidney loop of Henle cortical thick ascending limb epithelial cell       310\n",
      "Name: count, dtype: int64\n"
     ]
    }
   ],
   "source": [
    "# Dataset específico a analizar\n",
    "dataset = adata_park_filtrado\n",
    "nombre = 'adata_park_filtrado'\n",
    "\n",
    "# Verificar si el dataset no es None\n",
    "if dataset is not None:\n",
    "    # Obtener el conteo de instancias por clase\n",
    "    conteo_por_clase = dataset.obs['cell_type'].value_counts()\n",
    "    \n",
    "    # Calcular el número total de instancias sumando el conteo de instancias por clase\n",
    "    total_instancias = conteo_por_clase.sum()\n",
    "    \n",
    "    print(f\"El número total de instancias en el dataset {nombre} es: {total_instancias}\")\n",
    "    \n",
    "    # Mostrar el conteo de instancias por clase\n",
    "    print(f\"El conteo de instancias por clase en el dataset {nombre} es:\")\n",
    "    print(conteo_por_clase)\n",
    "else:\n",
    "    print(f\"El dataset {nombre} es None\")"
   ]
  },
  {
   "cell_type": "code",
   "execution_count": null,
   "metadata": {},
   "outputs": [],
   "source": []
  },
  {
   "cell_type": "markdown",
   "metadata": {},
   "source": [
    "## Unimos nuevos datasets"
   ]
  },
  {
   "cell_type": "markdown",
   "metadata": {},
   "source": [
    "### Unimos todos los datasets siguientes menos uno que lo dejaremos para test:\n",
    "conway, hinze,\tjanosevic,\tkirita,\tmiao, park y wu:\n",
    "- endothelial cell\n",
    "- epithelial cell of proximal tubule\n",
    "- kidney collecting duct principal cell\t\n",
    "- kidney connecting tubule epithelial cell\n",
    "- kidney distal convoluted tubule epithelial cell\n",
    "- renal beta-intercalated cell"
   ]
  },
  {
   "cell_type": "code",
   "execution_count": 5,
   "metadata": {},
   "outputs": [],
   "source": [
    "# Lista de clases de interés que se utilizarán para filtrar los conjuntos de datos\n",
    "clases_interesantes = ['endothelial cell',\n",
    "                       'epithelial cell of proximal tubule',\n",
    "                       'kidney collecting duct principal cell',\n",
    "                       'kidney connecting tubule epithelial cell',\n",
    "                       'kidney distal convoluted tubule epithelial cell',\n",
    "                       'renal beta-intercalated cell']\n",
    "\n",
    "# Aplicar el filtro para cada conjunto de datos\n",
    "adata_conway_filtrado = adata_conway[adata_conway.obs['cell_type'].isin(clases_interesantes)]\n",
    "adata_hinze_filtrado = adata_hinze[adata_hinze.obs['cell_type'].isin(clases_interesantes)]\n",
    "adata_janosevic_filtrado = adata_janosevic[adata_janosevic.obs['cell_type'].isin(clases_interesantes)]\n",
    "adata_kirita_filtrado = adata_kirita[adata_kirita.obs['cell_type'].isin(clases_interesantes)]\n",
    "adata_miao_filtrado = adata_miao[adata_miao.obs['cell_type'].isin(clases_interesantes)]\n",
    "adata_park_filtrado = adata_park[adata_park.obs['cell_type'].isin(clases_interesantes)]\n",
    "adata_wu_filtrado = adata_wu[adata_wu.obs['cell_type'].isin(clases_interesantes)]"
   ]
  },
  {
   "cell_type": "code",
   "execution_count": 7,
   "metadata": {},
   "outputs": [
    {
     "name": "stderr",
     "output_type": "stream",
     "text": [
      "/home/a/.local/lib/python3.8/site-packages/anndata/_core/anndata.py:1763: FutureWarning: The AnnData.concatenate method is deprecated in favour of the anndata.concat function. Please use anndata.concat instead.\n",
      "\n",
      "See the tutorial for concat at: https://anndata.readthedocs.io/en/latest/concatenation.html\n",
      "  warnings.warn(\n",
      "/home/a/.local/lib/python3.8/site-packages/anndata/_core/anndata.py:1763: FutureWarning: The AnnData.concatenate method is deprecated in favour of the anndata.concat function. Please use anndata.concat instead.\n",
      "\n",
      "See the tutorial for concat at: https://anndata.readthedocs.io/en/latest/concatenation.html\n",
      "  warnings.warn(\n",
      "/home/a/.local/lib/python3.8/site-packages/anndata/_core/anndata.py:1763: FutureWarning: The AnnData.concatenate method is deprecated in favour of the anndata.concat function. Please use anndata.concat instead.\n",
      "\n",
      "See the tutorial for concat at: https://anndata.readthedocs.io/en/latest/concatenation.html\n",
      "  warnings.warn(\n",
      "/home/a/.local/lib/python3.8/site-packages/anndata/_core/anndata.py:1763: FutureWarning: The AnnData.concatenate method is deprecated in favour of the anndata.concat function. Please use anndata.concat instead.\n",
      "\n",
      "See the tutorial for concat at: https://anndata.readthedocs.io/en/latest/concatenation.html\n",
      "  warnings.warn(\n",
      "/home/a/.local/lib/python3.8/site-packages/anndata/_core/anndata.py:1763: FutureWarning: The AnnData.concatenate method is deprecated in favour of the anndata.concat function. Please use anndata.concat instead.\n",
      "\n",
      "See the tutorial for concat at: https://anndata.readthedocs.io/en/latest/concatenation.html\n",
      "  warnings.warn(\n",
      "/home/a/.local/lib/python3.8/site-packages/anndata/_core/anndata.py:1763: FutureWarning: The AnnData.concatenate method is deprecated in favour of the anndata.concat function. Please use anndata.concat instead.\n",
      "\n",
      "See the tutorial for concat at: https://anndata.readthedocs.io/en/latest/concatenation.html\n",
      "  warnings.warn(\n",
      "/home/a/.local/lib/python3.8/site-packages/anndata/_core/anndata.py:1763: FutureWarning: The AnnData.concatenate method is deprecated in favour of the anndata.concat function. Please use anndata.concat instead.\n",
      "\n",
      "See the tutorial for concat at: https://anndata.readthedocs.io/en/latest/concatenation.html\n",
      "  warnings.warn(\n"
     ]
    }
   ],
   "source": [
    "# Lista de los conjuntos de datos a concatenar\n",
    "datasets_to_concatenate = [adata_conway_filtrado, adata_hinze_filtrado, adata_janosevic_filtrado,\n",
    "                           adata_kirita_filtrado, adata_miao_filtrado, adata_park_filtrado]\n",
    "\n",
    "# Concatenar los conjuntos de datos\n",
    "adata_switched_2_1 = concatenate_anndata(datasets_to_concatenate)\n",
    "\n",
    "datasets_to_concatenate = [adata_conway_filtrado, adata_hinze_filtrado, adata_janosevic_filtrado,\n",
    "                           adata_kirita_filtrado, adata_miao_filtrado, adata_wu_filtrado]\n",
    "\n",
    "# Concatenar los conjuntos de datos\n",
    "adata_switched_2_2 = concatenate_anndata(datasets_to_concatenate)\n",
    "\n",
    "datasets_to_concatenate = [adata_conway_filtrado, adata_hinze_filtrado,adata_janosevic_filtrado,\n",
    "                           adata_kirita_filtrado, adata_park_filtrado, adata_wu_filtrado]\n",
    "\n",
    "# Concatenar los conjuntos de datos\n",
    "adata_switched_2_3 = concatenate_anndata(datasets_to_concatenate)\n",
    "\n",
    "datasets_to_concatenate = [adata_conway_filtrado, adata_hinze_filtrado, adata_janosevic_filtrado,\n",
    "                           adata_miao_filtrado, adata_park_filtrado, adata_wu_filtrado]\n",
    "\n",
    "# Concatenar los conjuntos de datos\n",
    "adata_switched_2_4 = concatenate_anndata(datasets_to_concatenate)\n",
    "\n",
    "datasets_to_concatenate = [adata_conway_filtrado, adata_hinze_filtrado, adata_kirita_filtrado,\n",
    "                           adata_miao_filtrado, adata_park_filtrado, adata_wu_filtrado]\n",
    "\n",
    "# Concatenar los conjuntos de datos\n",
    "adata_switched_2_5 = concatenate_anndata(datasets_to_concatenate)\n",
    "\n",
    "datasets_to_concatenate = [adata_conway_filtrado, adata_janosevic_filtrado, adata_kirita_filtrado,\n",
    "                           adata_miao_filtrado, adata_park_filtrado, adata_wu_filtrado]\n",
    "\n",
    "# Concatenar los conjuntos de datos\n",
    "adata_switched_2_6 = concatenate_anndata(datasets_to_concatenate)\n",
    "\n",
    "datasets_to_concatenate = [adata_hinze_filtrado, adata_janosevic_filtrado, adata_kirita_filtrado,\n",
    "                           adata_miao_filtrado, adata_park_filtrado, adata_wu_filtrado]\n",
    "\n",
    "# Concatenar los conjuntos de datos\n",
    "adata_switched_2_7 = concatenate_anndata(datasets_to_concatenate)"
   ]
  },
  {
   "cell_type": "markdown",
   "metadata": {},
   "source": [
    "### Guardamos los dataser en directorio"
   ]
  },
  {
   "cell_type": "code",
   "execution_count": 8,
   "metadata": {},
   "outputs": [],
   "source": [
    "ruta_salida = \"/home/a/Escritorio/TFM/src/NSForest/data/data_final_selection/\"\n",
    "\n",
    "adata_switched_2_1.write(ruta_salida + 'adata_switched_2_1.h5ad') #unión de conway, hinze, janosevic, kirita, miao y park\n",
    "adata_switched_2_2.write(ruta_salida + 'adata_switched_2_2.h5ad') #unión de conway, hinze, janosevic, kirita y park\n",
    "adata_switched_2_3.write(ruta_salida + 'adata_switched_2_3.h5ad') #unión de conway, hinze, janosevic, miao y park\n",
    "adata_switched_2_4.write(ruta_salida + 'adata_switched_2_4.h5ad') #unión de conway, hinze, kirita, miao y park\n",
    "adata_switched_2_5.write(ruta_salida + 'adata_switched_2_5.h5ad') #unión de conway, janosevic, kirita, miao y park\n",
    "adata_switched_2_6.write(ruta_salida + 'adata_switched_2_6.h5ad') #unión de hinze, janosevic, kirita, miao y park\n",
    "adata_switched_2_7.write(ruta_salida + 'adata_switched_2_7.h5ad') #unión de hinze, janosevic, kirita, miao y park\n",
    "\n",
    "adata_conway_filtrado.write(ruta_salida + 'adata_selected_conway_6cl.h5ad')\n",
    "adata_hinze_filtrado.write(ruta_salida + 'adata_selected_hinze_6cl.h5ad')\n",
    "adata_janosevic_filtrado.write(ruta_salida + 'adata_selected_janosevic_6cl.h5ad')\n",
    "adata_kirita_filtrado.write(ruta_salida + 'adata_selected_kirita_6cl.h5ad')\n",
    "adata_miao_filtrado.write(ruta_salida + 'adata_selected_miao_6cl.h5ad')\n",
    "adata_park_filtrado.write(ruta_salida + 'adata_selected_park_6cl.h5ad')\n",
    "adata_wu_filtrado.write(ruta_salida + 'adata_selected_wu_6cl.h5ad')"
   ]
  },
  {
   "cell_type": "markdown",
   "metadata": {},
   "source": [
    "### Confirmamos que la selección se ha realizado correctamente"
   ]
  },
  {
   "cell_type": "code",
   "execution_count": 9,
   "metadata": {},
   "outputs": [
    {
     "name": "stdout",
     "output_type": "stream",
     "text": [
      "El número total de instancias en el dataset adata_switched_2_1 es: 97445\n",
      "El número total de instancias en el dataset adata_switched_2_2 es: 85429\n",
      "El número total de instancias en el dataset adata_switched_2_3 es: 85399\n",
      "El número total de instancias en el dataset adata_switched_2_4 es: 88119\n",
      "El número total de instancias en el dataset adata_switched_2_5 es: 98105\n",
      "El número total de instancias en el dataset adata_switched_2_6 es: 80489\n",
      "El número total de instancias en el dataset adata_switched_2_7 es: 101014\n",
      "El número total de instancias en el dataset adata_conway_filtrado es: 4986\n",
      "El número total de instancias en el dataset adata_hinze_filtrado es: 25511\n",
      "El número total de instancias en el dataset adata_janosevic_filtrado es: 7895\n",
      "El número total de instancias en el dataset adata_kirita_filtrado es: 17881\n",
      "El número total de instancias en el dataset adata_miao_filtrado es: 20601\n",
      "El número total de instancias en el dataset adata_park_filtrado es: 20571\n",
      "El número total de instancias en el dataset adata_wu_filtrado es: 8555\n"
     ]
    }
   ],
   "source": [
    "# Lista de variables que contienen los datasets\n",
    "datasets = [adata_switched_2_1, adata_switched_2_2, adata_switched_2_3, adata_switched_2_4, adata_switched_2_5, adata_switched_2_6, adata_switched_2_7,\n",
    "            adata_conway_filtrado, adata_hinze_filtrado, adata_janosevic_filtrado, adata_kirita_filtrado, adata_miao_filtrado,\n",
    "            adata_park_filtrado, adata_wu_filtrado]\n",
    "\n",
    "# Lista de nombres de los datasets\n",
    "nombres_datasets = ['adata_switched_2_1', 'adata_switched_2_2', 'adata_switched_2_3', 'adata_switched_2_4', 'adata_switched_2_5', 'adata_switched_2_6',\n",
    "                     'adata_switched_2_7', 'adata_conway_filtrado', 'adata_hinze_filtrado', 'adata_janosevic_filtrado', 'adata_kirita_filtrado', 'adata_miao_filtrado',\n",
    "                     'adata_park_filtrado', 'adata_wu_filtrado']\n",
    "\n",
    "# Realizar análisis descriptivos y visualizaciones para cada dataset\n",
    "for dataset, nombre in zip(datasets, nombres_datasets):\n",
    "    if dataset is not None:  # Verificar si dataset no es None\n",
    "        # Obtener el conteo de instancias por clase\n",
    "        conteo_por_clase = dataset.obs['cell_type'].value_counts()\n",
    "        \n",
    "        # Calcular el número total de instancias sumando el conteo de instancias por clase\n",
    "        total_instancias = conteo_por_clase.sum()\n",
    "        \n",
    "        print(f\"El número total de instancias en el dataset {nombre} es: {total_instancias}\")"
   ]
  },
  {
   "cell_type": "code",
   "execution_count": 10,
   "metadata": {},
   "outputs": [
    {
     "name": "stdout",
     "output_type": "stream",
     "text": [
      "El número de columnas en el dataset adata_switched_2_1 es: 16653\n",
      "El número de columnas en el dataset adata_switched_2_2 es: 16653\n",
      "El número de columnas en el dataset adata_switched_2_3 es: 16653\n",
      "El número de columnas en el dataset adata_switched_2_4 es: 16653\n",
      "El número de columnas en el dataset adata_switched_2_5 es: 16653\n",
      "El número de columnas en el dataset adata_switched_2_6 es: 16653\n",
      "El número de columnas en el dataset adata_switched_2_7 es: 16653\n",
      "El número de columnas en el dataset adata_conway_filtrado es: 16653\n",
      "El número de columnas en el dataset adata_hinze_filtrado es: 16653\n",
      "El número de columnas en el dataset adata_janosevic_filtrado es: 16653\n",
      "El número de columnas en el dataset adata_kirita_filtrado es: 16653\n",
      "El número de columnas en el dataset adata_miao_filtrado es: 16653\n",
      "El número de columnas en el dataset adata_park_filtrado es: 16653\n",
      "El número de columnas en el dataset adata_wu_filtrado es: 16653\n"
     ]
    }
   ],
   "source": [
    "# Realizar análisis descriptivos y visualizaciones para cada dataset\n",
    "for dataset, nombre in zip(datasets, nombres_datasets):\n",
    "    if dataset is not None:  # Verificar si dataset no es None\n",
    "        # Obtener el número de columnas\n",
    "        num_columnas = dataset.X.shape[1]\n",
    "        \n",
    "        print(f\"El número de columnas en el dataset {nombre} es: {num_columnas}\")"
   ]
  },
  {
   "cell_type": "code",
   "execution_count": 11,
   "metadata": {},
   "outputs": [
    {
     "name": "stdout",
     "output_type": "stream",
     "text": [
      "El número total de instancias en el dataset adata_switched_2_1 es: 97445\n",
      "El conteo de instancias por clase en el dataset adata_switched_2_1 es:\n",
      "cell_type\n",
      "epithelial cell of proximal tubule                 66316\n",
      "kidney distal convoluted tubule epithelial cell    15755\n",
      "endothelial cell                                    5130\n",
      "kidney collecting duct principal cell               4699\n",
      "kidney connecting tubule epithelial cell            3362\n",
      "renal beta-intercalated cell                        2183\n",
      "Name: count, dtype: int64\n"
     ]
    }
   ],
   "source": [
    "# Dataset específico a analizar\n",
    "dataset = adata_switched_2_1\n",
    "nombre = 'adata_switched_2_1'\n",
    "\n",
    "# Verificar si el dataset no es None\n",
    "if dataset is not None:\n",
    "    # Obtener el conteo de instancias por clase\n",
    "    conteo_por_clase = dataset.obs['cell_type'].value_counts()\n",
    "    \n",
    "    # Calcular el número total de instancias sumando el conteo de instancias por clase\n",
    "    total_instancias = conteo_por_clase.sum()\n",
    "    \n",
    "    print(f\"El número total de instancias en el dataset {nombre} es: {total_instancias}\")\n",
    "    \n",
    "    # Mostrar el conteo de instancias por clase\n",
    "    print(f\"El conteo de instancias por clase en el dataset {nombre} es:\")\n",
    "    print(conteo_por_clase)\n",
    "else:\n",
    "    print(f\"El dataset {nombre} es None\")"
   ]
  },
  {
   "cell_type": "code",
   "execution_count": 12,
   "metadata": {},
   "outputs": [
    {
     "name": "stdout",
     "output_type": "stream",
     "text": [
      "El número total de instancias en el dataset adata_switched_2_2 es: 85429\n",
      "El conteo de instancias por clase en el dataset adata_switched_2_2 es:\n",
      "cell_type\n",
      "epithelial cell of proximal tubule                 59680\n",
      "kidney distal convoluted tubule epithelial cell    11491\n",
      "endothelial cell                                    4824\n",
      "kidney collecting duct principal cell               4606\n",
      "kidney connecting tubule epithelial cell            3072\n",
      "renal beta-intercalated cell                        1756\n",
      "Name: count, dtype: int64\n"
     ]
    }
   ],
   "source": [
    "# Dataset específico a analizar\n",
    "dataset = adata_switched_2_2\n",
    "nombre = 'adata_switched_2_2'\n",
    "\n",
    "# Verificar si el dataset no es None\n",
    "if dataset is not None:\n",
    "    # Obtener el conteo de instancias por clase\n",
    "    conteo_por_clase = dataset.obs['cell_type'].value_counts()\n",
    "    \n",
    "    # Calcular el número total de instancias sumando el conteo de instancias por clase\n",
    "    total_instancias = conteo_por_clase.sum()\n",
    "    \n",
    "    print(f\"El número total de instancias en el dataset {nombre} es: {total_instancias}\")\n",
    "    \n",
    "    # Mostrar el conteo de instancias por clase\n",
    "    print(f\"El conteo de instancias por clase en el dataset {nombre} es:\")\n",
    "    print(conteo_por_clase)\n",
    "else:\n",
    "    print(f\"El dataset {nombre} es None\")"
   ]
  },
  {
   "cell_type": "code",
   "execution_count": 13,
   "metadata": {},
   "outputs": [
    {
     "name": "stdout",
     "output_type": "stream",
     "text": [
      "El número total de instancias en el dataset adata_switched_2_3 es: 85399\n",
      "El conteo de instancias por clase en el dataset adata_switched_2_3 es:\n",
      "cell_type\n",
      "epithelial cell of proximal tubule                 60000\n",
      "kidney distal convoluted tubule epithelial cell    10045\n",
      "endothelial cell                                    5276\n",
      "kidney collecting duct principal cell               4430\n",
      "kidney connecting tubule epithelial cell            3630\n",
      "renal beta-intercalated cell                        2018\n",
      "Name: count, dtype: int64\n"
     ]
    }
   ],
   "source": [
    "# Dataset específico a analizar\n",
    "dataset = adata_switched_2_3\n",
    "nombre = 'adata_switched_2_3'\n",
    "\n",
    "# Verificar si el dataset no es None\n",
    "if dataset is not None:\n",
    "    # Obtener el conteo de instancias por clase\n",
    "    conteo_por_clase = dataset.obs['cell_type'].value_counts()\n",
    "    \n",
    "    # Calcular el número total de instancias sumando el conteo de instancias por clase\n",
    "    total_instancias = conteo_por_clase.sum()\n",
    "    \n",
    "    print(f\"El número total de instancias en el dataset {nombre} es: {total_instancias}\")\n",
    "    \n",
    "    # Mostrar el conteo de instancias por clase\n",
    "    print(f\"El conteo de instancias por clase en el dataset {nombre} es:\")\n",
    "    print(conteo_por_clase)\n",
    "else:\n",
    "    print(f\"El dataset {nombre} es None\")"
   ]
  },
  {
   "cell_type": "code",
   "execution_count": 14,
   "metadata": {},
   "outputs": [
    {
     "name": "stdout",
     "output_type": "stream",
     "text": [
      "El número total de instancias en el dataset adata_switched_2_4 es: 88119\n",
      "El conteo de instancias por clase en el dataset adata_switched_2_4 es:\n",
      "cell_type\n",
      "epithelial cell of proximal tubule                 62254\n",
      "kidney distal convoluted tubule epithelial cell    14932\n",
      "kidney collecting duct principal cell               3362\n",
      "kidney connecting tubule epithelial cell            2912\n",
      "endothelial cell                                    2623\n",
      "renal beta-intercalated cell                        2036\n",
      "Name: count, dtype: int64\n"
     ]
    }
   ],
   "source": [
    "# Dataset específico a analizar\n",
    "dataset = adata_switched_2_4\n",
    "nombre = 'adata_switched_2_4'\n",
    "\n",
    "# Verificar si el dataset no es None\n",
    "if dataset is not None:\n",
    "    # Obtener el conteo de instancias por clase\n",
    "    conteo_por_clase = dataset.obs['cell_type'].value_counts()\n",
    "    \n",
    "    # Calcular el número total de instancias sumando el conteo de instancias por clase\n",
    "    total_instancias = conteo_por_clase.sum()\n",
    "    \n",
    "    print(f\"El número total de instancias en el dataset {nombre} es: {total_instancias}\")\n",
    "    \n",
    "    # Mostrar el conteo de instancias por clase\n",
    "    print(f\"El conteo de instancias por clase en el dataset {nombre} es:\")\n",
    "    print(conteo_por_clase)\n",
    "else:\n",
    "    print(f\"El dataset {nombre} es None\")"
   ]
  },
  {
   "cell_type": "code",
   "execution_count": 15,
   "metadata": {},
   "outputs": [
    {
     "name": "stdout",
     "output_type": "stream",
     "text": [
      "El número total de instancias en el dataset adata_switched_2_5 es: 98105\n",
      "El conteo de instancias por clase en el dataset adata_switched_2_5 es:\n",
      "cell_type\n",
      "epithelial cell of proximal tubule                 66888\n",
      "kidney distal convoluted tubule epithelial cell    15418\n",
      "endothelial cell                                    4931\n",
      "kidney collecting duct principal cell               4817\n",
      "kidney connecting tubule epithelial cell            3697\n",
      "renal beta-intercalated cell                        2354\n",
      "Name: count, dtype: int64\n"
     ]
    }
   ],
   "source": [
    "# Dataset específico a analizar\n",
    "dataset = adata_switched_2_5\n",
    "nombre = 'adata_switched_2_5'\n",
    "\n",
    "# Verificar si el dataset no es None\n",
    "if dataset is not None:\n",
    "    # Obtener el conteo de instancias por clase\n",
    "    conteo_por_clase = dataset.obs['cell_type'].value_counts()\n",
    "    \n",
    "    # Calcular el número total de instancias sumando el conteo de instancias por clase\n",
    "    total_instancias = conteo_por_clase.sum()\n",
    "    \n",
    "    print(f\"El número total de instancias en el dataset {nombre} es: {total_instancias}\")\n",
    "    \n",
    "    # Mostrar el conteo de instancias por clase\n",
    "    print(f\"El conteo de instancias por clase en el dataset {nombre} es:\")\n",
    "    print(conteo_por_clase)\n",
    "else:\n",
    "    print(f\"El dataset {nombre} es None\")"
   ]
  },
  {
   "cell_type": "code",
   "execution_count": 16,
   "metadata": {},
   "outputs": [
    {
     "name": "stdout",
     "output_type": "stream",
     "text": [
      "El número total de instancias en el dataset adata_switched_2_6 es: 80489\n",
      "El conteo de instancias por clase en el dataset adata_switched_2_6 es:\n",
      "cell_type\n",
      "epithelial cell of proximal tubule                 53585\n",
      "kidney distal convoluted tubule epithelial cell    14393\n",
      "endothelial cell                                    4681\n",
      "kidney collecting duct principal cell               3036\n",
      "kidney connecting tubule epithelial cell            2869\n",
      "renal beta-intercalated cell                        1925\n",
      "Name: count, dtype: int64\n"
     ]
    }
   ],
   "source": [
    "# Dataset específico a analizar\n",
    "dataset = adata_switched_2_6\n",
    "nombre = 'adata_switched_2_6'\n",
    "\n",
    "# Verificar si el dataset no es None\n",
    "if dataset is not None:\n",
    "    # Obtener el conteo de instancias por clase\n",
    "    conteo_por_clase = dataset.obs['cell_type'].value_counts()\n",
    "    \n",
    "    # Calcular el número total de instancias sumando el conteo de instancias por clase\n",
    "    total_instancias = conteo_por_clase.sum()\n",
    "    \n",
    "    print(f\"El número total de instancias en el dataset {nombre} es: {total_instancias}\")\n",
    "    \n",
    "    # Mostrar el conteo de instancias por clase\n",
    "    print(f\"El conteo de instancias por clase en el dataset {nombre} es:\")\n",
    "    print(conteo_por_clase)\n",
    "else:\n",
    "    print(f\"El dataset {nombre} es None\")"
   ]
  },
  {
   "cell_type": "code",
   "execution_count": 17,
   "metadata": {},
   "outputs": [
    {
     "name": "stdout",
     "output_type": "stream",
     "text": [
      "El número total de instancias en el dataset adata_switched_2_7 es: 101014\n",
      "El conteo de instancias por clase en el dataset adata_switched_2_7 es:\n",
      "cell_type\n",
      "epithelial cell of proximal tubule                 68269\n",
      "kidney distal convoluted tubule epithelial cell    16252\n",
      "endothelial cell                                    5307\n",
      "kidney collecting duct principal cell               4900\n",
      "kidney connecting tubule epithelial cell            3876\n",
      "renal beta-intercalated cell                        2410\n",
      "Name: count, dtype: int64\n"
     ]
    }
   ],
   "source": [
    "# Dataset específico a analizar\n",
    "dataset = adata_switched_2_7\n",
    "nombre = 'adata_switched_2_7'\n",
    "\n",
    "# Verificar si el dataset no es None\n",
    "if dataset is not None:\n",
    "    # Obtener el conteo de instancias por clase\n",
    "    conteo_por_clase = dataset.obs['cell_type'].value_counts()\n",
    "    \n",
    "    # Calcular el número total de instancias sumando el conteo de instancias por clase\n",
    "    total_instancias = conteo_por_clase.sum()\n",
    "    \n",
    "    print(f\"El número total de instancias en el dataset {nombre} es: {total_instancias}\")\n",
    "    \n",
    "    # Mostrar el conteo de instancias por clase\n",
    "    print(f\"El conteo de instancias por clase en el dataset {nombre} es:\")\n",
    "    print(conteo_por_clase)\n",
    "else:\n",
    "    print(f\"El dataset {nombre} es None\")"
   ]
  },
  {
   "cell_type": "code",
   "execution_count": 18,
   "metadata": {},
   "outputs": [
    {
     "name": "stdout",
     "output_type": "stream",
     "text": [
      "El número total de instancias en el dataset adata_conway_filtrado es: 4986\n",
      "El conteo de instancias por clase en el dataset adata_conway_filtrado es:\n",
      "cell_type\n",
      "epithelial cell of proximal tubule                 4563\n",
      "endothelial cell                                    155\n",
      "kidney distal convoluted tubule epithelial cell     129\n",
      "kidney collecting duct principal cell                75\n",
      "renal beta-intercalated cell                         37\n",
      "kidney connecting tubule epithelial cell             27\n",
      "Name: count, dtype: int64\n"
     ]
    }
   ],
   "source": [
    "# Dataset específico a analizar\n",
    "dataset = adata_conway_filtrado\n",
    "nombre = 'adata_conway_filtrado'\n",
    "\n",
    "# Verificar si el dataset no es None\n",
    "if dataset is not None:\n",
    "    # Obtener el conteo de instancias por clase\n",
    "    conteo_por_clase = dataset.obs['cell_type'].value_counts()\n",
    "    \n",
    "    # Calcular el número total de instancias sumando el conteo de instancias por clase\n",
    "    total_instancias = conteo_por_clase.sum()\n",
    "    \n",
    "    print(f\"El número total de instancias en el dataset {nombre} es: {total_instancias}\")\n",
    "    \n",
    "    # Mostrar el conteo de instancias por clase\n",
    "    print(f\"El conteo de instancias por clase en el dataset {nombre} es:\")\n",
    "    print(conteo_por_clase)\n",
    "else:\n",
    "    print(f\"El dataset {nombre} es None\")"
   ]
  },
  {
   "cell_type": "code",
   "execution_count": 19,
   "metadata": {},
   "outputs": [
    {
     "name": "stdout",
     "output_type": "stream",
     "text": [
      "El número total de instancias en el dataset adata_hinze_filtrado es: 25511\n",
      "El conteo de instancias por clase en el dataset adata_hinze_filtrado es:\n",
      "cell_type\n",
      "epithelial cell of proximal tubule                 19247\n",
      "kidney distal convoluted tubule epithelial cell     1988\n",
      "kidney collecting duct principal cell               1939\n",
      "kidney connecting tubule epithelial cell            1034\n",
      "endothelial cell                                     781\n",
      "renal beta-intercalated cell                         522\n",
      "Name: count, dtype: int64\n"
     ]
    }
   ],
   "source": [
    "# Dataset específico a analizar\n",
    "dataset = adata_hinze_filtrado\n",
    "nombre = 'adata_hinze_filtrado'\n",
    "\n",
    "# Verificar si el dataset no es None\n",
    "if dataset is not None:\n",
    "    # Obtener el conteo de instancias por clase\n",
    "    conteo_por_clase = dataset.obs['cell_type'].value_counts()\n",
    "    \n",
    "    # Calcular el número total de instancias sumando el conteo de instancias por clase\n",
    "    total_instancias = conteo_por_clase.sum()\n",
    "    \n",
    "    print(f\"El número total de instancias en el dataset {nombre} es: {total_instancias}\")\n",
    "    \n",
    "    # Mostrar el conteo de instancias por clase\n",
    "    print(f\"El conteo de instancias por clase en el dataset {nombre} es:\")\n",
    "    print(conteo_por_clase)\n",
    "else:\n",
    "    print(f\"El dataset {nombre} es None\")"
   ]
  },
  {
   "cell_type": "code",
   "execution_count": 20,
   "metadata": {},
   "outputs": [
    {
     "name": "stdout",
     "output_type": "stream",
     "text": [
      "El número total de instancias en el dataset adata_janosevic_filtrado es: 7895\n",
      "El conteo de instancias por clase en el dataset adata_janosevic_filtrado es:\n",
      "cell_type\n",
      "epithelial cell of proximal tubule                 5944\n",
      "kidney distal convoluted tubule epithelial cell     963\n",
      "endothelial cell                                    531\n",
      "kidney connecting tubule epithelial cell            206\n",
      "kidney collecting duct principal cell               158\n",
      "renal beta-intercalated cell                         93\n",
      "Name: count, dtype: int64\n"
     ]
    }
   ],
   "source": [
    "# Dataset específico a analizar\n",
    "dataset = adata_janosevic_filtrado\n",
    "nombre = 'adata_janosevic_filtrado'\n",
    "\n",
    "# Verificar si el dataset no es None\n",
    "if dataset is not None:\n",
    "    # Obtener el conteo de instancias por clase\n",
    "    conteo_por_clase = dataset.obs['cell_type'].value_counts()\n",
    "    \n",
    "    # Calcular el número total de instancias sumando el conteo de instancias por clase\n",
    "    total_instancias = conteo_por_clase.sum()\n",
    "    \n",
    "    print(f\"El número total de instancias en el dataset {nombre} es: {total_instancias}\")\n",
    "    \n",
    "    # Mostrar el conteo de instancias por clase\n",
    "    print(f\"El conteo de instancias por clase en el dataset {nombre} es:\")\n",
    "    print(conteo_por_clase)\n",
    "else:\n",
    "    print(f\"El dataset {nombre} es None\")"
   ]
  },
  {
   "cell_type": "code",
   "execution_count": 21,
   "metadata": {},
   "outputs": [
    {
     "name": "stdout",
     "output_type": "stream",
     "text": [
      "El número total de instancias en el dataset adata_kirita_filtrado es: 17881\n",
      "El conteo de instancias por clase en el dataset adata_kirita_filtrado es:\n",
      "cell_type\n",
      "epithelial cell of proximal tubule                 10578\n",
      "endothelial cell                                    2839\n",
      "kidney collecting duct principal cell               1613\n",
      "kidney distal convoluted tubule epithelial cell     1449\n",
      "kidney connecting tubule epithelial cell             991\n",
      "renal beta-intercalated cell                         411\n",
      "Name: count, dtype: int64\n"
     ]
    }
   ],
   "source": [
    "# Dataset específico a analizar\n",
    "dataset = adata_kirita_filtrado\n",
    "nombre = 'adata_kirita_filtrado'\n",
    "\n",
    "# Verificar si el dataset no es None\n",
    "if dataset is not None:\n",
    "    # Obtener el conteo de instancias por clase\n",
    "    conteo_por_clase = dataset.obs['cell_type'].value_counts()\n",
    "    \n",
    "    # Calcular el número total de instancias sumando el conteo de instancias por clase\n",
    "    total_instancias = conteo_por_clase.sum()\n",
    "    \n",
    "    print(f\"El número total de instancias en el dataset {nombre} es: {total_instancias}\")\n",
    "    \n",
    "    # Mostrar el conteo de instancias por clase\n",
    "    print(f\"El conteo de instancias por clase en el dataset {nombre} es:\")\n",
    "    print(conteo_por_clase)\n",
    "else:\n",
    "    print(f\"El dataset {nombre} es None\")"
   ]
  },
  {
   "cell_type": "code",
   "execution_count": 22,
   "metadata": {},
   "outputs": [
    {
     "name": "stdout",
     "output_type": "stream",
     "text": [
      "El número total de instancias en el dataset adata_miao_filtrado es: 20601\n",
      "El conteo de instancias por clase en el dataset adata_miao_filtrado es:\n",
      "cell_type\n",
      "epithelial cell of proximal tubule                 12832\n",
      "kidney distal convoluted tubule epithelial cell     6336\n",
      "kidney collecting duct principal cell                545\n",
      "renal beta-intercalated cell                         429\n",
      "kidney connecting tubule epithelial cell             273\n",
      "endothelial cell                                     186\n",
      "Name: count, dtype: int64\n"
     ]
    }
   ],
   "source": [
    "# Dataset específico a analizar\n",
    "dataset = adata_miao_filtrado\n",
    "nombre = 'adata_miao_filtrado'\n",
    "\n",
    "# Verificar si el dataset no es None\n",
    "if dataset is not None:\n",
    "    # Obtener el conteo de instancias por clase\n",
    "    conteo_por_clase = dataset.obs['cell_type'].value_counts()\n",
    "    \n",
    "    # Calcular el número total de instancias sumando el conteo de instancias por clase\n",
    "    total_instancias = conteo_por_clase.sum()\n",
    "    \n",
    "    print(f\"El número total de instancias en el dataset {nombre} es: {total_instancias}\")\n",
    "    \n",
    "    # Mostrar el conteo de instancias por clase\n",
    "    print(f\"El conteo de instancias por clase en el dataset {nombre} es:\")\n",
    "    print(conteo_por_clase)\n",
    "else:\n",
    "    print(f\"El dataset {nombre} es None\")"
   ]
  },
  {
   "cell_type": "code",
   "execution_count": 23,
   "metadata": {},
   "outputs": [
    {
     "name": "stdout",
     "output_type": "stream",
     "text": [
      "El número total de instancias en el dataset adata_park_filtrado es: 20571\n",
      "El conteo de instancias por clase en el dataset adata_park_filtrado es:\n",
      "cell_type\n",
      "epithelial cell of proximal tubule                 13152\n",
      "kidney distal convoluted tubule epithelial cell     4890\n",
      "kidney connecting tubule epithelial cell             831\n",
      "renal beta-intercalated cell                         691\n",
      "endothelial cell                                     638\n",
      "kidney collecting duct principal cell                369\n",
      "Name: count, dtype: int64\n"
     ]
    }
   ],
   "source": [
    "# Dataset específico a analizar\n",
    "dataset = adata_park_filtrado\n",
    "nombre = 'adata_park_filtrado'\n",
    "\n",
    "# Verificar si el dataset no es None\n",
    "if dataset is not None:\n",
    "    # Obtener el conteo de instancias por clase\n",
    "    conteo_por_clase = dataset.obs['cell_type'].value_counts()\n",
    "    \n",
    "    # Calcular el número total de instancias sumando el conteo de instancias por clase\n",
    "    total_instancias = conteo_por_clase.sum()\n",
    "    \n",
    "    print(f\"El número total de instancias en el dataset {nombre} es: {total_instancias}\")\n",
    "    \n",
    "    # Mostrar el conteo de instancias por clase\n",
    "    print(f\"El conteo de instancias por clase en el dataset {nombre} es:\")\n",
    "    print(conteo_por_clase)\n",
    "else:\n",
    "    print(f\"El dataset {nombre} es None\")"
   ]
  },
  {
   "cell_type": "code",
   "execution_count": 24,
   "metadata": {},
   "outputs": [
    {
     "name": "stdout",
     "output_type": "stream",
     "text": [
      "El número total de instancias en el dataset adata_wu_filtrado es: 8555\n",
      "El conteo de instancias por clase en el dataset adata_wu_filtrado es:\n",
      "cell_type\n",
      "epithelial cell of proximal tubule                 6516\n",
      "kidney distal convoluted tubule epithelial cell     626\n",
      "kidney connecting tubule epithelial cell            541\n",
      "endothelial cell                                    332\n",
      "kidney collecting duct principal cell               276\n",
      "renal beta-intercalated cell                        264\n",
      "Name: count, dtype: int64\n"
     ]
    }
   ],
   "source": [
    "# Dataset específico a analizar\n",
    "dataset = adata_wu_filtrado\n",
    "nombre = 'adata_wu_filtrado'\n",
    "\n",
    "# Verificar si el dataset no es None\n",
    "if dataset is not None:\n",
    "    # Obtener el conteo de instancias por clase\n",
    "    conteo_por_clase = dataset.obs['cell_type'].value_counts()\n",
    "    \n",
    "    # Calcular el número total de instancias sumando el conteo de instancias por clase\n",
    "    total_instancias = conteo_por_clase.sum()\n",
    "    \n",
    "    print(f\"El número total de instancias en el dataset {nombre} es: {total_instancias}\")\n",
    "    \n",
    "    # Mostrar el conteo de instancias por clase\n",
    "    print(f\"El conteo de instancias por clase en el dataset {nombre} es:\")\n",
    "    print(conteo_por_clase)\n",
    "else:\n",
    "    print(f\"El dataset {nombre} es None\")"
   ]
  },
  {
   "cell_type": "code",
   "execution_count": null,
   "metadata": {},
   "outputs": [],
   "source": []
  }
 ],
 "metadata": {
  "kernelspec": {
   "display_name": "Python 3",
   "language": "python",
   "name": "python3"
  },
  "language_info": {
   "codemirror_mode": {
    "name": "ipython",
    "version": 3
   },
   "file_extension": ".py",
   "mimetype": "text/x-python",
   "name": "python",
   "nbconvert_exporter": "python",
   "pygments_lexer": "ipython3",
   "version": "3.8.10"
  }
 },
 "nbformat": 4,
 "nbformat_minor": 2
}
