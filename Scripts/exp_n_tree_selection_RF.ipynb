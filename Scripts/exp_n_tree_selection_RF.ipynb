{
  "cells": [
    {
      "cell_type": "markdown",
      "metadata": {},
      "source": [
        "# Notebook para selección del número óptimo de árboles para NSForest ejecutado en GoogleColab"
      ]
    },
    {
      "cell_type": "code",
      "execution_count": null,
      "metadata": {
        "colab": {
          "base_uri": "https://localhost:8080/"
        },
        "id": "_YqKqZQyCO1B",
        "outputId": "0797ef90-42e7-4a65-9746-a8acaee6a76f"
      },
      "outputs": [],
      "source": [
        "from google.colab import drive\n",
        "drive.mount('/content/drive')"
      ]
    },
    {
      "cell_type": "code",
      "execution_count": null,
      "metadata": {
        "colab": {
          "base_uri": "https://localhost:8080/"
        },
        "id": "8YJssPKmCSPH",
        "outputId": "e985a941-5288-476c-c3fc-0ae175c2760c"
      },
      "outputs": [],
      "source": [
        "import pandas as pd\n",
        "import numpy as np\n",
        "!pip install scanpy\n",
        "import scanpy as sc"
      ]
    },
    {
      "cell_type": "code",
      "execution_count": null,
      "metadata": {
        "id": "EPwzuqSMCdSS"
      },
      "outputs": [],
      "source": [
        "import sys\n",
        "sys.path.append('/content/drive/MyDrive/TFM/src/NSForest/scripts/')"
      ]
    },
    {
      "cell_type": "markdown",
      "metadata": {
        "id": "CnVyc2ESEBvD"
      },
      "source": [
        "## Import libreries"
      ]
    },
    {
      "cell_type": "code",
      "execution_count": null,
      "metadata": {
        "id": "iiMi-ugMChB5"
      },
      "outputs": [],
      "source": [
        "from NSForest_v3dot9_2_test import *"
      ]
    },
    {
      "cell_type": "markdown",
      "metadata": {
        "id": "JFwj25NHEHIi"
      },
      "source": [
        "## Load data"
      ]
    },
    {
      "cell_type": "code",
      "execution_count": null,
      "metadata": {
        "id": "jw6fu4rhCkef"
      },
      "outputs": [],
      "source": [
        "# Loading h5ad\n",
        "file = \"/content/drive/MyDrive/TFM/src/NSForest/data/adata_completo.h5ad\"\n",
        "adata = sc.read_h5ad(file)"
      ]
    },
    {
      "cell_type": "markdown",
      "metadata": {
        "id": "E9AeuF1pEMzP"
      },
      "source": [
        "## Quick view of datasets"
      ]
    },
    {
      "cell_type": "code",
      "execution_count": null,
      "metadata": {
        "colab": {
          "base_uri": "https://localhost:8080/"
        },
        "id": "OrT5yMoaDj20",
        "outputId": "c120caef-d3d4-451f-87d5-a987c7b89972"
      },
      "outputs": [],
      "source": [
        "\n",
        "adata #quick look of the data"
      ]
    },
    {
      "cell_type": "markdown",
      "metadata": {
        "id": "dGmA55G2ERZX"
      },
      "source": [
        "## Get cluster names"
      ]
    },
    {
      "cell_type": "code",
      "execution_count": null,
      "metadata": {
        "colab": {
          "base_uri": "https://localhost:8080/"
        },
        "id": "bjBsgwJQDp3m",
        "outputId": "2f17eb1d-b5ac-44c9-8829-17ffcf7315a2"
      },
      "outputs": [],
      "source": [
        "cluster_header = \"cell_type\" #<---\n",
        "set(adata.obs[cluster_header])"
      ]
    },
    {
      "cell_type": "code",
      "execution_count": null,
      "metadata": {
        "colab": {
          "base_uri": "https://localhost:8080/"
        },
        "id": "WioPDDrsDw5g",
        "outputId": "f4512bd4-3fce-4ce3-ff48-e47924f3bc12"
      },
      "outputs": [],
      "source": [
        "np.unique(adata.obs[cluster_header])"
      ]
    },
    {
      "cell_type": "code",
      "execution_count": null,
      "metadata": {
        "colab": {
          "base_uri": "https://localhost:8080/"
        },
        "id": "ynmHJ57BD1VZ",
        "outputId": "52af1959-8652-44ab-b7db-8bf3d50e0bfe"
      },
      "outputs": [],
      "source": [
        "len(np.unique(adata.obs[cluster_header]))"
      ]
    },
    {
      "cell_type": "code",
      "execution_count": null,
      "metadata": {
        "colab": {
          "base_uri": "https://localhost:8080/"
        },
        "id": "OfjfvXbkD30R",
        "outputId": "2286bf4c-be05-4612-c845-7ff1b63e1dd1"
      },
      "outputs": [],
      "source": [
        "# Extrae el nombre del archivo sin la extensión\n",
        "dataset_name = os.path.splitext(os.path.basename(file))[0]\n",
        "outputfilename = \"RF\"\n",
        "output_folder = f\"../outputs_experimentation/RF/{dataset_name}/\"\n",
        "if not os.path.exists(output_folder):\n",
        "    os.makedirs(output_folder)\n",
        "    print(f\"Creating new directory...\\n{output_folder}\")"
      ]
    },
    {
      "cell_type": "markdown",
      "metadata": {
        "id": "4w4kB7ANEcDt"
      },
      "source": [
        "## Runing NSForest para 10 árboles"
      ]
    },
    {
      "cell_type": "code",
      "execution_count": null,
      "metadata": {
        "colab": {
          "base_uri": "https://localhost:8080/"
        },
        "id": "Jhd2Mr9UD6-5",
        "outputId": "ef82027a-f036-43a2-df82-ebb0594e5548"
      },
      "outputs": [],
      "source": [
        "NSForest_results = NSForest(adata, cluster_header=cluster_header, n_trees=10, n_genes_eval=6, beta = 0.2,\n",
        "                            output_folder = output_folder, outputfilename_prefix = outputfilename) #<---"
      ]
    },
    {
      "cell_type": "code",
      "execution_count": null,
      "metadata": {
        "colab": {
          "base_uri": "https://localhost:8080/",
          "height": 914
        },
        "id": "FBzZVLH8EjAE",
        "outputId": "c6741671-3102-4dc5-b3a3-9f09742226d4"
      },
      "outputs": [],
      "source": [
        "NSForest_results"
      ]
    },
    {
      "cell_type": "markdown",
      "metadata": {},
      "source": [
        "## Runing NSForest para 100 árboles"
      ]
    },
    {
      "cell_type": "code",
      "execution_count": null,
      "metadata": {
        "id": "a4JRPspQFAv1"
      },
      "outputs": [],
      "source": [
        "NSForest_results_100 = NSForest(adata, cluster_header=cluster_header, n_trees=100, n_genes_eval=6, beta = 0.2,\n",
        "                            output_folder = output_folder, outputfilename_prefix = outputfilename) #<---"
      ]
    },
    {
      "cell_type": "code",
      "execution_count": null,
      "metadata": {
        "colab": {
          "base_uri": "https://localhost:8080/",
          "height": 808
        },
        "id": "b6sR_sR7FV_a",
        "outputId": "8d52403c-3be7-43b5-9602-296531d96e61"
      },
      "outputs": [],
      "source": [
        "NSForest_results_100"
      ]
    },
    {
      "cell_type": "markdown",
      "metadata": {
        "id": "9IzGtgapFjWf"
      },
      "source": [
        "## Runing NSForest para 1000 árboles"
      ]
    },
    {
      "cell_type": "code",
      "execution_count": null,
      "metadata": {
        "id": "15wKMHXNFYxz"
      },
      "outputs": [],
      "source": [
        "NSForest_results_1000 = NSForest(adata, cluster_header=cluster_header, n_trees=1000, n_genes_eval=6, beta = 0.2,\n",
        "                            output_folder = output_folder, outputfilename_prefix = outputfilename) #<---"
      ]
    },
    {
      "cell_type": "code",
      "execution_count": null,
      "metadata": {
        "colab": {
          "base_uri": "https://localhost:8080/",
          "height": 880
        },
        "id": "L6DBSHkyFmXA",
        "outputId": "3998e9d2-6535-4c85-d7bb-19d10fecceac"
      },
      "outputs": [],
      "source": [
        "NSForest_results_1000"
      ]
    },
    {
      "cell_type": "code",
      "execution_count": null,
      "metadata": {
        "id": "d4x_ykMymLhI"
      },
      "outputs": [],
      "source": []
    }
  ],
  "metadata": {
    "colab": {
      "machine_shape": "hm",
      "provenance": []
    },
    "kernelspec": {
      "display_name": "Python 3",
      "name": "python3"
    },
    "language_info": {
      "name": "python"
    }
  },
  "nbformat": 4,
  "nbformat_minor": 0
}
