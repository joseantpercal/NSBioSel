{
 "cells": [
  {
   "cell_type": "markdown",
   "metadata": {},
   "source": [
    "# Notebook para ejecutar NSForest_by"
   ]
  },
  {
   "cell_type": "markdown",
   "metadata": {},
   "source": [
    "## Import libreries"
   ]
  },
  {
   "cell_type": "code",
   "execution_count": 1,
   "metadata": {},
   "outputs": [],
   "source": [
    "from NSForest_v3dot9_2_test_PreBinarySelect import *"
   ]
  },
  {
   "cell_type": "markdown",
   "metadata": {},
   "source": [
    "## Load data"
   ]
  },
  {
   "cell_type": "code",
   "execution_count": 2,
   "metadata": {},
   "outputs": [],
   "source": [
    "# Loading h5ad\n",
    "file = \"/home/a/Escritorio/TFM/src/NSForest/data/data_final_selection/adata_switched_2_2.h5ad\"\n",
    "adata = sc.read_h5ad(file)\n",
    "adata_test = sc.read_h5ad(\"/home/a/Escritorio/TFM/src/NSForest/data/data_final_selection/adata_selected_park_6cl.h5ad\")"
   ]
  },
  {
   "cell_type": "markdown",
   "metadata": {},
   "source": [
    "## Quick view of datasets"
   ]
  },
  {
   "cell_type": "code",
   "execution_count": 3,
   "metadata": {},
   "outputs": [
    {
     "data": {
      "text/plain": [
       "AnnData object with n_obs × n_vars = 85429 × 16653\n",
       "    obs: 'Origin', 'suspension_type', 'n_genes', 'n_genes_by_counts', 'log1p_n_genes_by_counts', 'total_counts', 'log1p_total_counts', 'total_counts_mt', 'log1p_total_counts_mt', 'pct_counts_mt', 'total_counts_ribo', 'log1p_total_counts_ribo', 'pct_counts_ribo', 'total_counts_hb', 'log1p_total_counts_hb', 'pct_counts_hb', 'author_cell_type', 'disease_ontology_term_id', 'self_reported_ethnicity_ontology_term_id', 'cell_type_ontology_term_id', 'organism_ontology_term_id', 'sex_ontology_term_id', 'is_primary_data', 'development_stage_ontology_term_id', 'tissue_ontology_term_id', 'assay_ontology_term_id', 'donor_id', 'cell_type', 'assay', 'disease', 'organism', 'sex', 'tissue', 'self_reported_ethnicity', 'development_stage', 'batch'\n",
       "    var: 'feature_is_filtered', 'feature_name', 'feature_reference', 'feature_biotype'\n",
       "    uns: 'schema_version', 'title'\n",
       "    obsm: 'X_scANVI', 'X_scVI', 'X_umap'"
      ]
     },
     "execution_count": 3,
     "metadata": {},
     "output_type": "execute_result"
    }
   ],
   "source": [
    "adata #quick look of the data"
   ]
  },
  {
   "cell_type": "code",
   "execution_count": 4,
   "metadata": {},
   "outputs": [
    {
     "data": {
      "text/plain": [
       "AnnData object with n_obs × n_vars = 20571 × 16653\n",
       "    obs: 'Origin', 'suspension_type', 'n_genes', 'n_genes_by_counts', 'log1p_n_genes_by_counts', 'total_counts', 'log1p_total_counts', 'total_counts_mt', 'log1p_total_counts_mt', 'pct_counts_mt', 'total_counts_ribo', 'log1p_total_counts_ribo', 'pct_counts_ribo', 'total_counts_hb', 'log1p_total_counts_hb', 'pct_counts_hb', 'author_cell_type', 'disease_ontology_term_id', 'self_reported_ethnicity_ontology_term_id', 'cell_type_ontology_term_id', 'organism_ontology_term_id', 'sex_ontology_term_id', 'is_primary_data', 'development_stage_ontology_term_id', 'tissue_ontology_term_id', 'assay_ontology_term_id', 'donor_id', 'cell_type', 'assay', 'disease', 'organism', 'sex', 'tissue', 'self_reported_ethnicity', 'development_stage'\n",
       "    var: 'feature_is_filtered', 'feature_name', 'feature_reference', 'feature_biotype'\n",
       "    uns: 'schema_version', 'title'\n",
       "    obsm: 'X_scANVI', 'X_scVI', 'X_umap'"
      ]
     },
     "execution_count": 4,
     "metadata": {},
     "output_type": "execute_result"
    }
   ],
   "source": [
    "adata_test"
   ]
  },
  {
   "cell_type": "markdown",
   "metadata": {},
   "source": [
    "## Get cluster names"
   ]
  },
  {
   "cell_type": "code",
   "execution_count": 5,
   "metadata": {},
   "outputs": [],
   "source": [
    "cluster_header = \"cell_type\" #<---\n",
    "medians_header = \"medians_\" + cluster_header\n",
    "binary_scores_header = \"binary_scores_\" + cluster_header"
   ]
  },
  {
   "cell_type": "code",
   "execution_count": 6,
   "metadata": {},
   "outputs": [
    {
     "data": {
      "text/plain": [
       "array(['endothelial cell', 'epithelial cell of proximal tubule',\n",
       "       'kidney collecting duct principal cell',\n",
       "       'kidney connecting tubule epithelial cell',\n",
       "       'kidney distal convoluted tubule epithelial cell',\n",
       "       'renal beta-intercalated cell'], dtype=object)"
      ]
     },
     "execution_count": 6,
     "metadata": {},
     "output_type": "execute_result"
    }
   ],
   "source": [
    "np.unique(adata.obs[cluster_header])"
   ]
  },
  {
   "cell_type": "code",
   "execution_count": 7,
   "metadata": {},
   "outputs": [
    {
     "data": {
      "text/plain": [
       "6"
      ]
     },
     "execution_count": 7,
     "metadata": {},
     "output_type": "execute_result"
    }
   ],
   "source": [
    "len(np.unique(adata.obs[cluster_header]))"
   ]
  },
  {
   "cell_type": "code",
   "execution_count": 8,
   "metadata": {},
   "outputs": [
    {
     "name": "stdout",
     "output_type": "stream",
     "text": [
      "Saving new anndata object as...\n",
      "/home/a/Escritorio/TFM/src/NSForest/data/data_final_selection/adata_switched_2_2_preprocessed.h5ad\n"
     ]
    }
   ],
   "source": [
    "filename = file.replace(\".h5ad\", \"_preprocessed.h5ad\")\n",
    "print(f\"Saving new anndata object as...\\n{filename}\")\n",
    "adata.write_h5ad(filename)"
   ]
  },
  {
   "cell_type": "code",
   "execution_count": 9,
   "metadata": {},
   "outputs": [],
   "source": [
    "cluster_header = \"cell_type\"\n",
    "medians_header = \"medians_\" + cluster_header\n",
    "binary_scores_header = \"binary_scores_\" + cluster_header\n",
    "adata = sc.read_h5ad(file.replace(\".h5ad\", \"_preprocessed.h5ad\"))\n",
    "# Extrae el nombre del archivo sin la extensión\n",
    "dataset_name = os.path.splitext(os.path.basename(file))[0]\n",
    "outputfilename = \"RF_by\"\n",
    "output_folder = f\"../outputs_experimentation/RF_by/{dataset_name}/\"\n",
    "if not os.path.exists(output_folder):\n",
    "    os.makedirs(output_folder)\n",
    "    print(f\"Creating new directory...\\n{output_folder}\")"
   ]
  },
  {
   "cell_type": "markdown",
   "metadata": {},
   "source": [
    "## Runing NSForest to obtain the biomarkers"
   ]
  },
  {
   "cell_type": "code",
   "execution_count": 10,
   "metadata": {},
   "outputs": [
    {
     "name": "stdout",
     "output_type": "stream",
     "text": [
      "Calculating medians...\n"
     ]
    },
    {
     "name": "stderr",
     "output_type": "stream",
     "text": [
      "Calculating medians (means) per cluster: 100%|██████████| 6/6 [01:03<00:00, 10.52s/it]\n"
     ]
    },
    {
     "name": "stdout",
     "output_type": "stream",
     "text": [
      "Saving calculated medians as adata.varm.medians_cell_type\n",
      "--- 63.12512135505676 seconds ---\n",
      "Only positive genes selected. 358 positive genes out of 16653 total genes\n",
      "Calculating binary scores...\n"
     ]
    },
    {
     "name": "stderr",
     "output_type": "stream",
     "text": [
      "Calculating binary scores per cluster: 100%|██████████| 6/6 [00:00<00:00,  8.61it/s]"
     ]
    },
    {
     "name": "stdout",
     "output_type": "stream",
     "text": [
      "Saving calculated binary scores as adata.varm.binary_scores_cell_type\n",
      "--- 0.7054269313812256 seconds ---\n",
      "median: 0.0\n",
      "mean: 0.2188787971406454\n",
      "std: 0.36592288050865884\n"
     ]
    },
    {
     "name": "stderr",
     "output_type": "stream",
     "text": [
      "\n"
     ]
    }
   ],
   "source": [
    "adata = prep_medians(adata, cluster_header, use_mean = False, positive_genes_only = True) \n",
    "adata = prep_binary_scores(adata, cluster_header, medians_header)"
   ]
  },
  {
   "cell_type": "markdown",
   "metadata": {},
   "source": [
    "### Runing NSForest using all clusters"
   ]
  },
  {
   "cell_type": "code",
   "execution_count": 11,
   "metadata": {},
   "outputs": [
    {
     "name": "stdout",
     "output_type": "stream",
     "text": [
      "Preparing data...\n",
      "Pre-selecting genes based on binary scores...\n",
      "\t Threshold (mean + 2 * std): 0.9507245581579631\n",
      "\tAverage number of genes after gene_selection in each cluster: 36.666666666666664\n",
      "Saving number of genes selected per cluster as...\n",
      "../outputs_experimentation/RF_by/adata_switched_2_2/RF_by_gene_selection.csv\n",
      "Number of clusters to evaluate: 6\n"
     ]
    },
    {
     "name": "stderr",
     "output_type": "stream",
     "text": [
      "running NSForest on all clusters:   0%|          | 0/6 [00:00<?, ?it/s]"
     ]
    },
    {
     "name": "stdout",
     "output_type": "stream",
     "text": [
      "1 out of 6:\n",
      "\tendothelial cell\n",
      "\t Pre-selected 22 genes to feed into Random Forest.\n",
      "Tiempo de ejecución: 5.83 segundos\n"
     ]
    },
    {
     "name": "stderr",
     "output_type": "stream",
     "text": [
      "running NSForest on all clusters:  17%|█▋        | 1/6 [00:11<00:55, 11.07s/it]"
     ]
    },
    {
     "name": "stdout",
     "output_type": "stream",
     "text": [
      "\t['ENSMUSG00000021759', 'ENSMUSG00000039706']\n",
      "\tfbeta: 0.952259847093361\n",
      "2 out of 6:\n",
      "\trenal beta-intercalated cell\n",
      "\t Pre-selected 47 genes to feed into Random Forest.\n",
      "Tiempo de ejecución: 7.50 segundos\n"
     ]
    },
    {
     "name": "stderr",
     "output_type": "stream",
     "text": [
      "running NSForest on all clusters:  33%|███▎      | 2/6 [00:23<00:47, 11.91s/it]"
     ]
    },
    {
     "name": "stdout",
     "output_type": "stream",
     "text": [
      "\t['ENSMUSG00000028238', 'ENSMUSG00000020566']\n",
      "\tfbeta: 0.9562839364274107\n",
      "3 out of 6:\n",
      "\tepithelial cell of proximal tubule\n",
      "\t Pre-selected 49 genes to feed into Random Forest.\n",
      "Tiempo de ejecución: 10.47 segundos\n"
     ]
    },
    {
     "name": "stderr",
     "output_type": "stream",
     "text": [
      "running NSForest on all clusters:  50%|█████     | 3/6 [00:39<00:41, 13.97s/it]"
     ]
    },
    {
     "name": "stdout",
     "output_type": "stream",
     "text": [
      "\t['ENSMUSG00000030945', 'ENSMUSG00000022613', 'ENSMUSG00000024694']\n",
      "\tfbeta: 0.9356138763867231\n",
      "4 out of 6:\n",
      "\tkidney connecting tubule epithelial cell\n",
      "\t Pre-selected 14 genes to feed into Random Forest.\n",
      "Tiempo de ejecución: 3.57 segundos\n"
     ]
    },
    {
     "name": "stderr",
     "output_type": "stream",
     "text": [
      "running NSForest on all clusters:  67%|██████▋   | 4/6 [00:48<00:23, 11.85s/it]"
     ]
    },
    {
     "name": "stdout",
     "output_type": "stream",
     "text": [
      "\t['ENSMUSG00000054640', 'ENSMUSG00000028030']\n",
      "\tfbeta: 0.8254410897195259\n",
      "5 out of 6:\n",
      "\tkidney distal convoluted tubule epithelial cell\n",
      "\t Pre-selected 84 genes to feed into Random Forest.\n",
      "Tiempo de ejecución: 18.35 segundos\n"
     ]
    },
    {
     "name": "stderr",
     "output_type": "stream",
     "text": [
      "running NSForest on all clusters:  83%|████████▎ | 5/6 [01:12<00:16, 16.12s/it]"
     ]
    },
    {
     "name": "stdout",
     "output_type": "stream",
     "text": [
      "\t['ENSMUSG00000031766', 'ENSMUSG00000028017']\n",
      "\tfbeta: 0.9357226100224669\n",
      "6 out of 6:\n",
      "\tkidney collecting duct principal cell\n",
      "\t Pre-selected 4 genes to feed into Random Forest.\n",
      "Tiempo de ejecución: 2.32 segundos\n",
      "\tOnly 4 out of 15 top Random Forest features with median > 0 will be further evaluated.\n"
     ]
    },
    {
     "name": "stderr",
     "output_type": "stream",
     "text": [
      "running NSForest on all clusters: 100%|██████████| 6/6 [01:16<00:00, 12.75s/it]"
     ]
    },
    {
     "name": "stdout",
     "output_type": "stream",
     "text": [
      "\t['ENSMUSG00000023013', 'ENSMUSG00000004988']\n",
      "\tfbeta: 0.8982900517728595\n",
      "Saving supplementary table as...\n",
      "../outputs_experimentation/RF_by/adata_switched_2_2/RF_by_supplementary.csv\n",
      "Saving markers table as...\n",
      "../outputs_experimentation/RF_by/adata_switched_2_2/RF_by_markers.csv\n",
      "Saving results table as...\n",
      "../outputs_experimentation/RF_by/adata_switched_2_2/RF_by_results.csv\n",
      "Saving final results table as...\n",
      "../outputs_experimentation/RF_by/adata_switched_2_2/RF_by_results.csv\n",
      "Tiempo total de la ejecución: 76.61 segundos\n"
     ]
    },
    {
     "name": "stderr",
     "output_type": "stream",
     "text": [
      "\n"
     ]
    }
   ],
   "source": [
    "NSForest_results = NSForest(adata, cluster_header, medians_header, binary_scores_header, beta = 0.2,  n_trees = 100,\n",
    "                   gene_selection=\"BinaryFirst_high\",\n",
    "                   output_folder = output_folder, outputfilename_prefix = outputfilename)"
   ]
  },
  {
   "cell_type": "code",
   "execution_count": 12,
   "metadata": {},
   "outputs": [
    {
     "data": {
      "text/html": [
       "<div>\n",
       "<style scoped>\n",
       "    .dataframe tbody tr th:only-of-type {\n",
       "        vertical-align: middle;\n",
       "    }\n",
       "\n",
       "    .dataframe tbody tr th {\n",
       "        vertical-align: top;\n",
       "    }\n",
       "\n",
       "    .dataframe thead th {\n",
       "        text-align: right;\n",
       "    }\n",
       "</style>\n",
       "<table border=\"1\" class=\"dataframe\">\n",
       "  <thead>\n",
       "    <tr style=\"text-align: right;\">\n",
       "      <th></th>\n",
       "      <th>clusterName</th>\n",
       "      <th>clusterSize</th>\n",
       "      <th>f_score</th>\n",
       "      <th>PPV</th>\n",
       "      <th>TN</th>\n",
       "      <th>FP</th>\n",
       "      <th>FN</th>\n",
       "      <th>TP</th>\n",
       "      <th>marker_count</th>\n",
       "      <th>NSForest_markers</th>\n",
       "      <th>thresholds</th>\n",
       "      <th>binary_genes</th>\n",
       "    </tr>\n",
       "  </thead>\n",
       "  <tbody>\n",
       "    <tr>\n",
       "      <th>0</th>\n",
       "      <td>endothelial cell</td>\n",
       "      <td>4824</td>\n",
       "      <td>0.952260</td>\n",
       "      <td>0.990658</td>\n",
       "      <td>80583</td>\n",
       "      <td>22</td>\n",
       "      <td>2491</td>\n",
       "      <td>2333</td>\n",
       "      <td>2</td>\n",
       "      <td>[ENSMUSG00000021759, ENSMUSG00000039706]</td>\n",
       "      <td>[0.8481884002685547, 0.7238551378250122]</td>\n",
       "      <td>[ENSMUSG00000027210, ENSMUSG00000021759, ENSMU...</td>\n",
       "    </tr>\n",
       "    <tr>\n",
       "      <th>1</th>\n",
       "      <td>renal beta-intercalated cell</td>\n",
       "      <td>1756</td>\n",
       "      <td>0.956284</td>\n",
       "      <td>0.988285</td>\n",
       "      <td>83662</td>\n",
       "      <td>11</td>\n",
       "      <td>828</td>\n",
       "      <td>928</td>\n",
       "      <td>2</td>\n",
       "      <td>[ENSMUSG00000028238, ENSMUSG00000020566]</td>\n",
       "      <td>[0.4547166973352432, 0.4649316668510437]</td>\n",
       "      <td>[ENSMUSG00000024485, ENSMUSG00000028238, ENSMU...</td>\n",
       "    </tr>\n",
       "    <tr>\n",
       "      <th>2</th>\n",
       "      <td>epithelial cell of proximal tubule</td>\n",
       "      <td>59680</td>\n",
       "      <td>0.935614</td>\n",
       "      <td>0.963448</td>\n",
       "      <td>24519</td>\n",
       "      <td>1230</td>\n",
       "      <td>27259</td>\n",
       "      <td>32421</td>\n",
       "      <td>3</td>\n",
       "      <td>[ENSMUSG00000030945, ENSMUSG00000022613, ENSMU...</td>\n",
       "      <td>[0.40984900295734406, 0.3071601241827011, 0.20...</td>\n",
       "      <td>[ENSMUSG00000030945, ENSMUSG00000022613, ENSMU...</td>\n",
       "    </tr>\n",
       "    <tr>\n",
       "      <th>3</th>\n",
       "      <td>kidney connecting tubule epithelial cell</td>\n",
       "      <td>3072</td>\n",
       "      <td>0.825441</td>\n",
       "      <td>0.950241</td>\n",
       "      <td>82326</td>\n",
       "      <td>31</td>\n",
       "      <td>2480</td>\n",
       "      <td>592</td>\n",
       "      <td>2</td>\n",
       "      <td>[ENSMUSG00000054640, ENSMUSG00000028030]</td>\n",
       "      <td>[2.118518114089966, 1.3690828680992126]</td>\n",
       "      <td>[ENSMUSG00000054640, ENSMUSG00000028030, ENSMU...</td>\n",
       "    </tr>\n",
       "    <tr>\n",
       "      <th>4</th>\n",
       "      <td>kidney distal convoluted tubule epithelial cell</td>\n",
       "      <td>11491</td>\n",
       "      <td>0.935723</td>\n",
       "      <td>0.966446</td>\n",
       "      <td>73730</td>\n",
       "      <td>208</td>\n",
       "      <td>5500</td>\n",
       "      <td>5991</td>\n",
       "      <td>2</td>\n",
       "      <td>[ENSMUSG00000031766, ENSMUSG00000028017]</td>\n",
       "      <td>[1.1833228468894958, 1.0618106722831726]</td>\n",
       "      <td>[ENSMUSG00000031766, ENSMUSG00000028017, ENSMU...</td>\n",
       "    </tr>\n",
       "    <tr>\n",
       "      <th>5</th>\n",
       "      <td>kidney collecting duct principal cell</td>\n",
       "      <td>4606</td>\n",
       "      <td>0.898290</td>\n",
       "      <td>0.954416</td>\n",
       "      <td>80743</td>\n",
       "      <td>80</td>\n",
       "      <td>2931</td>\n",
       "      <td>1675</td>\n",
       "      <td>2</td>\n",
       "      <td>[ENSMUSG00000023013, ENSMUSG00000004988]</td>\n",
       "      <td>[1.4653971195220947, 1.1409903764724731]</td>\n",
       "      <td>[ENSMUSG00000023013, ENSMUSG00000004988, ENSMU...</td>\n",
       "    </tr>\n",
       "    <tr>\n",
       "      <th>6</th>\n",
       "      <td>Average</td>\n",
       "      <td>14238</td>\n",
       "      <td>0.917269</td>\n",
       "      <td>0.968916</td>\n",
       "      <td>70927</td>\n",
       "      <td>263</td>\n",
       "      <td>6914</td>\n",
       "      <td>7323</td>\n",
       "      <td>-</td>\n",
       "      <td>-</td>\n",
       "      <td>-</td>\n",
       "      <td>-</td>\n",
       "    </tr>\n",
       "  </tbody>\n",
       "</table>\n",
       "</div>"
      ],
      "text/plain": [
       "                                       clusterName  clusterSize   f_score  \\\n",
       "0                                 endothelial cell         4824  0.952260   \n",
       "1                     renal beta-intercalated cell         1756  0.956284   \n",
       "2               epithelial cell of proximal tubule        59680  0.935614   \n",
       "3         kidney connecting tubule epithelial cell         3072  0.825441   \n",
       "4  kidney distal convoluted tubule epithelial cell        11491  0.935723   \n",
       "5            kidney collecting duct principal cell         4606  0.898290   \n",
       "6                                          Average        14238  0.917269   \n",
       "\n",
       "        PPV     TN    FP     FN     TP marker_count  \\\n",
       "0  0.990658  80583    22   2491   2333            2   \n",
       "1  0.988285  83662    11    828    928            2   \n",
       "2  0.963448  24519  1230  27259  32421            3   \n",
       "3  0.950241  82326    31   2480    592            2   \n",
       "4  0.966446  73730   208   5500   5991            2   \n",
       "5  0.954416  80743    80   2931   1675            2   \n",
       "6  0.968916  70927   263   6914   7323            -   \n",
       "\n",
       "                                    NSForest_markers  \\\n",
       "0           [ENSMUSG00000021759, ENSMUSG00000039706]   \n",
       "1           [ENSMUSG00000028238, ENSMUSG00000020566]   \n",
       "2  [ENSMUSG00000030945, ENSMUSG00000022613, ENSMU...   \n",
       "3           [ENSMUSG00000054640, ENSMUSG00000028030]   \n",
       "4           [ENSMUSG00000031766, ENSMUSG00000028017]   \n",
       "5           [ENSMUSG00000023013, ENSMUSG00000004988]   \n",
       "6                                                  -   \n",
       "\n",
       "                                          thresholds  \\\n",
       "0           [0.8481884002685547, 0.7238551378250122]   \n",
       "1           [0.4547166973352432, 0.4649316668510437]   \n",
       "2  [0.40984900295734406, 0.3071601241827011, 0.20...   \n",
       "3            [2.118518114089966, 1.3690828680992126]   \n",
       "4           [1.1833228468894958, 1.0618106722831726]   \n",
       "5           [1.4653971195220947, 1.1409903764724731]   \n",
       "6                                                  -   \n",
       "\n",
       "                                        binary_genes  \n",
       "0  [ENSMUSG00000027210, ENSMUSG00000021759, ENSMU...  \n",
       "1  [ENSMUSG00000024485, ENSMUSG00000028238, ENSMU...  \n",
       "2  [ENSMUSG00000030945, ENSMUSG00000022613, ENSMU...  \n",
       "3  [ENSMUSG00000054640, ENSMUSG00000028030, ENSMU...  \n",
       "4  [ENSMUSG00000031766, ENSMUSG00000028017, ENSMU...  \n",
       "5  [ENSMUSG00000023013, ENSMUSG00000004988, ENSMU...  \n",
       "6                                                  -  "
      ]
     },
     "execution_count": 12,
     "metadata": {},
     "output_type": "execute_result"
    }
   ],
   "source": [
    "NSForest_results"
   ]
  },
  {
   "cell_type": "markdown",
   "metadata": {},
   "source": [
    "### Testing the model performance:"
   ]
  },
  {
   "cell_type": "markdown",
   "metadata": {},
   "source": [
    "### Approach 1:\n",
    "- Train a decission tree for each of selected genes as biomarkers by NSForest\n",
    "- Obtein the prediction as the dot product of the individual prediction for each gene"
   ]
  },
  {
   "cell_type": "code",
   "execution_count": 13,
   "metadata": {},
   "outputs": [],
   "source": [
    "NSForest_results = NSForest_results.iloc[:-1]\n",
    "df_test_result_total = myDecisionTreeEvaluationTest(adata, adata_test, cluster_header, NSForest_results, beta = 0.2,\n",
    "                                                    output_folder = output_folder, outputfilename_prefix = outputfilename)"
   ]
  },
  {
   "cell_type": "code",
   "execution_count": 14,
   "metadata": {},
   "outputs": [
    {
     "data": {
      "text/html": [
       "<div>\n",
       "<style scoped>\n",
       "    .dataframe tbody tr th:only-of-type {\n",
       "        vertical-align: middle;\n",
       "    }\n",
       "\n",
       "    .dataframe tbody tr th {\n",
       "        vertical-align: top;\n",
       "    }\n",
       "\n",
       "    .dataframe thead th {\n",
       "        text-align: right;\n",
       "    }\n",
       "</style>\n",
       "<table border=\"1\" class=\"dataframe\">\n",
       "  <thead>\n",
       "    <tr style=\"text-align: right;\">\n",
       "      <th></th>\n",
       "      <th>clusterName</th>\n",
       "      <th>clusterSize</th>\n",
       "      <th>f_score</th>\n",
       "      <th>PPV</th>\n",
       "      <th>TN</th>\n",
       "      <th>FP</th>\n",
       "      <th>FN</th>\n",
       "      <th>TP</th>\n",
       "      <th>marker_count</th>\n",
       "      <th>NSForest_markers</th>\n",
       "      <th>threshold</th>\n",
       "    </tr>\n",
       "  </thead>\n",
       "  <tbody>\n",
       "    <tr>\n",
       "      <th>0</th>\n",
       "      <td>endothelial cell</td>\n",
       "      <td>638</td>\n",
       "      <td>0.271147</td>\n",
       "      <td>1.000000</td>\n",
       "      <td>19933</td>\n",
       "      <td>0</td>\n",
       "      <td>629</td>\n",
       "      <td>9</td>\n",
       "      <td>2</td>\n",
       "      <td>['ENSMUSG00000021759', 'ENSMUSG00000039706']</td>\n",
       "      <td>[0.8481884002685547, 0.7238551378250122]</td>\n",
       "    </tr>\n",
       "    <tr>\n",
       "      <th>1</th>\n",
       "      <td>renal beta-intercalated cell</td>\n",
       "      <td>691</td>\n",
       "      <td>0.903678</td>\n",
       "      <td>0.973799</td>\n",
       "      <td>19874</td>\n",
       "      <td>6</td>\n",
       "      <td>468</td>\n",
       "      <td>223</td>\n",
       "      <td>2</td>\n",
       "      <td>['ENSMUSG00000028238', 'ENSMUSG00000020566']</td>\n",
       "      <td>[0.4547166973352432, 0.4649316668510437]</td>\n",
       "    </tr>\n",
       "    <tr>\n",
       "      <th>2</th>\n",
       "      <td>epithelial cell of proximal tubule</td>\n",
       "      <td>13152</td>\n",
       "      <td>0.906059</td>\n",
       "      <td>0.964708</td>\n",
       "      <td>7246</td>\n",
       "      <td>173</td>\n",
       "      <td>8423</td>\n",
       "      <td>4729</td>\n",
       "      <td>3</td>\n",
       "      <td>['ENSMUSG00000030945', 'ENSMUSG00000022613', '...</td>\n",
       "      <td>[0.40984900295734406, 0.3071601241827011, 0.20...</td>\n",
       "    </tr>\n",
       "    <tr>\n",
       "      <th>3</th>\n",
       "      <td>kidney connecting tubule epithelial cell</td>\n",
       "      <td>831</td>\n",
       "      <td>0.000000</td>\n",
       "      <td>0.000000</td>\n",
       "      <td>19740</td>\n",
       "      <td>0</td>\n",
       "      <td>831</td>\n",
       "      <td>0</td>\n",
       "      <td>2</td>\n",
       "      <td>['ENSMUSG00000054640', 'ENSMUSG00000028030']</td>\n",
       "      <td>[2.118518114089966, 1.3690828680992126]</td>\n",
       "    </tr>\n",
       "    <tr>\n",
       "      <th>4</th>\n",
       "      <td>kidney distal convoluted tubule epithelial cell</td>\n",
       "      <td>4890</td>\n",
       "      <td>0.911411</td>\n",
       "      <td>0.958373</td>\n",
       "      <td>15594</td>\n",
       "      <td>87</td>\n",
       "      <td>2887</td>\n",
       "      <td>2003</td>\n",
       "      <td>2</td>\n",
       "      <td>['ENSMUSG00000031766', 'ENSMUSG00000028017']</td>\n",
       "      <td>[1.1833228468894958, 1.0618106722831726]</td>\n",
       "    </tr>\n",
       "    <tr>\n",
       "      <th>5</th>\n",
       "      <td>kidney collecting duct principal cell</td>\n",
       "      <td>369</td>\n",
       "      <td>0.937311</td>\n",
       "      <td>0.957627</td>\n",
       "      <td>20192</td>\n",
       "      <td>10</td>\n",
       "      <td>143</td>\n",
       "      <td>226</td>\n",
       "      <td>2</td>\n",
       "      <td>['ENSMUSG00000023013', 'ENSMUSG00000004988']</td>\n",
       "      <td>[1.4653971195220947, 1.1409903764724731]</td>\n",
       "    </tr>\n",
       "    <tr>\n",
       "      <th>6</th>\n",
       "      <td>Average</td>\n",
       "      <td>3428</td>\n",
       "      <td>0.654934</td>\n",
       "      <td>0.809085</td>\n",
       "      <td>17096</td>\n",
       "      <td>46</td>\n",
       "      <td>2230</td>\n",
       "      <td>1198</td>\n",
       "      <td>-</td>\n",
       "      <td>-</td>\n",
       "      <td>-</td>\n",
       "    </tr>\n",
       "  </tbody>\n",
       "</table>\n",
       "</div>"
      ],
      "text/plain": [
       "                                       clusterName clusterSize   f_score  \\\n",
       "0                                 endothelial cell         638  0.271147   \n",
       "1                     renal beta-intercalated cell         691  0.903678   \n",
       "2               epithelial cell of proximal tubule       13152  0.906059   \n",
       "3         kidney connecting tubule epithelial cell         831  0.000000   \n",
       "4  kidney distal convoluted tubule epithelial cell        4890  0.911411   \n",
       "5            kidney collecting duct principal cell         369  0.937311   \n",
       "6                                          Average        3428  0.654934   \n",
       "\n",
       "        PPV     TN   FP    FN    TP marker_count  \\\n",
       "0  1.000000  19933    0   629     9            2   \n",
       "1  0.973799  19874    6   468   223            2   \n",
       "2  0.964708   7246  173  8423  4729            3   \n",
       "3  0.000000  19740    0   831     0            2   \n",
       "4  0.958373  15594   87  2887  2003            2   \n",
       "5  0.957627  20192   10   143   226            2   \n",
       "6  0.809085  17096   46  2230  1198            -   \n",
       "\n",
       "                                    NSForest_markers  \\\n",
       "0       ['ENSMUSG00000021759', 'ENSMUSG00000039706']   \n",
       "1       ['ENSMUSG00000028238', 'ENSMUSG00000020566']   \n",
       "2  ['ENSMUSG00000030945', 'ENSMUSG00000022613', '...   \n",
       "3       ['ENSMUSG00000054640', 'ENSMUSG00000028030']   \n",
       "4       ['ENSMUSG00000031766', 'ENSMUSG00000028017']   \n",
       "5       ['ENSMUSG00000023013', 'ENSMUSG00000004988']   \n",
       "6                                                  -   \n",
       "\n",
       "                                           threshold  \n",
       "0           [0.8481884002685547, 0.7238551378250122]  \n",
       "1           [0.4547166973352432, 0.4649316668510437]  \n",
       "2  [0.40984900295734406, 0.3071601241827011, 0.20...  \n",
       "3            [2.118518114089966, 1.3690828680992126]  \n",
       "4           [1.1833228468894958, 1.0618106722831726]  \n",
       "5           [1.4653971195220947, 1.1409903764724731]  \n",
       "6                                                  -  "
      ]
     },
     "execution_count": 14,
     "metadata": {},
     "output_type": "execute_result"
    }
   ],
   "source": [
    "df_test_result_total"
   ]
  },
  {
   "cell_type": "markdown",
   "metadata": {},
   "source": [
    "### Approach 2:\n",
    "- Train a decission tree with all NSForest selected gene at the same time"
   ]
  },
  {
   "cell_type": "code",
   "execution_count": 15,
   "metadata": {},
   "outputs": [],
   "source": [
    "df_combined_test_result = myDecisionTreeEvaluationTestCombined(adata, adata_test, cluster_header, NSForest_results, beta = 0.2,\n",
    "                                                               output_folder = output_folder, outputfilename_prefix = outputfilename)"
   ]
  },
  {
   "cell_type": "code",
   "execution_count": 16,
   "metadata": {},
   "outputs": [
    {
     "data": {
      "text/html": [
       "<div>\n",
       "<style scoped>\n",
       "    .dataframe tbody tr th:only-of-type {\n",
       "        vertical-align: middle;\n",
       "    }\n",
       "\n",
       "    .dataframe tbody tr th {\n",
       "        vertical-align: top;\n",
       "    }\n",
       "\n",
       "    .dataframe thead th {\n",
       "        text-align: right;\n",
       "    }\n",
       "</style>\n",
       "<table border=\"1\" class=\"dataframe\">\n",
       "  <thead>\n",
       "    <tr style=\"text-align: right;\">\n",
       "      <th></th>\n",
       "      <th>clusterName</th>\n",
       "      <th>clusterSize</th>\n",
       "      <th>f_score</th>\n",
       "      <th>PPV</th>\n",
       "      <th>TN</th>\n",
       "      <th>FP</th>\n",
       "      <th>FN</th>\n",
       "      <th>TP</th>\n",
       "      <th>marker_count</th>\n",
       "      <th>NSForest_markers</th>\n",
       "      <th>threshold</th>\n",
       "    </tr>\n",
       "  </thead>\n",
       "  <tbody>\n",
       "    <tr>\n",
       "      <th>0</th>\n",
       "      <td>endothelial cell</td>\n",
       "      <td>638</td>\n",
       "      <td>0.662252</td>\n",
       "      <td>0.943396</td>\n",
       "      <td>19930</td>\n",
       "      <td>3</td>\n",
       "      <td>588</td>\n",
       "      <td>50</td>\n",
       "      <td>2</td>\n",
       "      <td>['ENSMUSG00000021759', 'ENSMUSG00000039706']</td>\n",
       "      <td>[0.8481884002685547]</td>\n",
       "    </tr>\n",
       "    <tr>\n",
       "      <th>1</th>\n",
       "      <td>renal beta-intercalated cell</td>\n",
       "      <td>691</td>\n",
       "      <td>0.707209</td>\n",
       "      <td>0.714815</td>\n",
       "      <td>19726</td>\n",
       "      <td>154</td>\n",
       "      <td>305</td>\n",
       "      <td>386</td>\n",
       "      <td>2</td>\n",
       "      <td>['ENSMUSG00000028238', 'ENSMUSG00000020566']</td>\n",
       "      <td>[0.4547166973352432]</td>\n",
       "    </tr>\n",
       "    <tr>\n",
       "      <th>2</th>\n",
       "      <td>epithelial cell of proximal tubule</td>\n",
       "      <td>13152</td>\n",
       "      <td>0.828174</td>\n",
       "      <td>0.832054</td>\n",
       "      <td>5450</td>\n",
       "      <td>1969</td>\n",
       "      <td>3397</td>\n",
       "      <td>9755</td>\n",
       "      <td>3</td>\n",
       "      <td>['ENSMUSG00000030945', 'ENSMUSG00000022613', '...</td>\n",
       "      <td>[0.40984900295734406]</td>\n",
       "    </tr>\n",
       "    <tr>\n",
       "      <th>3</th>\n",
       "      <td>kidney connecting tubule epithelial cell</td>\n",
       "      <td>831</td>\n",
       "      <td>0.405983</td>\n",
       "      <td>0.423469</td>\n",
       "      <td>19514</td>\n",
       "      <td>226</td>\n",
       "      <td>665</td>\n",
       "      <td>166</td>\n",
       "      <td>2</td>\n",
       "      <td>['ENSMUSG00000054640', 'ENSMUSG00000028030']</td>\n",
       "      <td>[2.118518114089966]</td>\n",
       "    </tr>\n",
       "    <tr>\n",
       "      <th>4</th>\n",
       "      <td>kidney distal convoluted tubule epithelial cell</td>\n",
       "      <td>4890</td>\n",
       "      <td>0.833702</td>\n",
       "      <td>0.845893</td>\n",
       "      <td>15135</td>\n",
       "      <td>546</td>\n",
       "      <td>1893</td>\n",
       "      <td>2997</td>\n",
       "      <td>2</td>\n",
       "      <td>['ENSMUSG00000031766', 'ENSMUSG00000028017']</td>\n",
       "      <td>[1.1833228468894958]</td>\n",
       "    </tr>\n",
       "    <tr>\n",
       "      <th>5</th>\n",
       "      <td>kidney collecting duct principal cell</td>\n",
       "      <td>369</td>\n",
       "      <td>0.711595</td>\n",
       "      <td>0.709924</td>\n",
       "      <td>20088</td>\n",
       "      <td>114</td>\n",
       "      <td>90</td>\n",
       "      <td>279</td>\n",
       "      <td>2</td>\n",
       "      <td>['ENSMUSG00000023013', 'ENSMUSG00000004988']</td>\n",
       "      <td>[1.4653971195220947]</td>\n",
       "    </tr>\n",
       "    <tr>\n",
       "      <th>6</th>\n",
       "      <td>Average</td>\n",
       "      <td>3428</td>\n",
       "      <td>0.691486</td>\n",
       "      <td>0.744925</td>\n",
       "      <td>16640</td>\n",
       "      <td>502</td>\n",
       "      <td>1156</td>\n",
       "      <td>2272</td>\n",
       "      <td>-</td>\n",
       "      <td>-</td>\n",
       "      <td>-</td>\n",
       "    </tr>\n",
       "  </tbody>\n",
       "</table>\n",
       "</div>"
      ],
      "text/plain": [
       "                                       clusterName clusterSize   f_score  \\\n",
       "0                                 endothelial cell         638  0.662252   \n",
       "1                     renal beta-intercalated cell         691  0.707209   \n",
       "2               epithelial cell of proximal tubule       13152  0.828174   \n",
       "3         kidney connecting tubule epithelial cell         831  0.405983   \n",
       "4  kidney distal convoluted tubule epithelial cell        4890  0.833702   \n",
       "5            kidney collecting duct principal cell         369  0.711595   \n",
       "6                                          Average        3428  0.691486   \n",
       "\n",
       "        PPV     TN    FP    FN    TP marker_count  \\\n",
       "0  0.943396  19930     3   588    50            2   \n",
       "1  0.714815  19726   154   305   386            2   \n",
       "2  0.832054   5450  1969  3397  9755            3   \n",
       "3  0.423469  19514   226   665   166            2   \n",
       "4  0.845893  15135   546  1893  2997            2   \n",
       "5  0.709924  20088   114    90   279            2   \n",
       "6  0.744925  16640   502  1156  2272            -   \n",
       "\n",
       "                                    NSForest_markers              threshold  \n",
       "0       ['ENSMUSG00000021759', 'ENSMUSG00000039706']   [0.8481884002685547]  \n",
       "1       ['ENSMUSG00000028238', 'ENSMUSG00000020566']   [0.4547166973352432]  \n",
       "2  ['ENSMUSG00000030945', 'ENSMUSG00000022613', '...  [0.40984900295734406]  \n",
       "3       ['ENSMUSG00000054640', 'ENSMUSG00000028030']    [2.118518114089966]  \n",
       "4       ['ENSMUSG00000031766', 'ENSMUSG00000028017']   [1.1833228468894958]  \n",
       "5       ['ENSMUSG00000023013', 'ENSMUSG00000004988']   [1.4653971195220947]  \n",
       "6                                                  -                      -  "
      ]
     },
     "execution_count": 16,
     "metadata": {},
     "output_type": "execute_result"
    }
   ],
   "source": [
    "df_combined_test_result"
   ]
  },
  {
   "cell_type": "code",
   "execution_count": 17,
   "metadata": {},
   "outputs": [],
   "source": [
    "new_eval = myDecisionTreeEvaluationTestMove(adata, adata_test, cluster_header, NSForest_results, beta = 0.2,\n",
    "                                                               output_folder = output_folder, outputfilename_prefix = outputfilename, coef=0.5)"
   ]
  },
  {
   "cell_type": "code",
   "execution_count": 18,
   "metadata": {},
   "outputs": [
    {
     "data": {
      "text/html": [
       "<div>\n",
       "<style scoped>\n",
       "    .dataframe tbody tr th:only-of-type {\n",
       "        vertical-align: middle;\n",
       "    }\n",
       "\n",
       "    .dataframe tbody tr th {\n",
       "        vertical-align: top;\n",
       "    }\n",
       "\n",
       "    .dataframe thead th {\n",
       "        text-align: right;\n",
       "    }\n",
       "</style>\n",
       "<table border=\"1\" class=\"dataframe\">\n",
       "  <thead>\n",
       "    <tr style=\"text-align: right;\">\n",
       "      <th></th>\n",
       "      <th>clusterName</th>\n",
       "      <th>clusterSize</th>\n",
       "      <th>f_score</th>\n",
       "      <th>PPV</th>\n",
       "      <th>TN</th>\n",
       "      <th>FP</th>\n",
       "      <th>FN</th>\n",
       "      <th>TP</th>\n",
       "      <th>marker_count</th>\n",
       "      <th>NSForest_markers</th>\n",
       "      <th>original_threshold</th>\n",
       "      <th>new_threshold</th>\n",
       "    </tr>\n",
       "  </thead>\n",
       "  <tbody>\n",
       "    <tr>\n",
       "      <th>0</th>\n",
       "      <td>endothelial cell</td>\n",
       "      <td>638</td>\n",
       "      <td>0.223862</td>\n",
       "      <td>1.000000</td>\n",
       "      <td>19933</td>\n",
       "      <td>0</td>\n",
       "      <td>631</td>\n",
       "      <td>7</td>\n",
       "      <td>2</td>\n",
       "      <td>['ENSMUSG00000021759', 'ENSMUSG00000039706']</td>\n",
       "      <td>[0.8481884002685547, 0.7238551378250122]</td>\n",
       "      <td>[0.884131882339716, 0.7579623945057392]</td>\n",
       "    </tr>\n",
       "    <tr>\n",
       "      <th>1</th>\n",
       "      <td>renal beta-intercalated cell</td>\n",
       "      <td>691</td>\n",
       "      <td>0.896081</td>\n",
       "      <td>0.980100</td>\n",
       "      <td>19876</td>\n",
       "      <td>4</td>\n",
       "      <td>494</td>\n",
       "      <td>197</td>\n",
       "      <td>2</td>\n",
       "      <td>['ENSMUSG00000028238', 'ENSMUSG00000020566']</td>\n",
       "      <td>[0.4547166973352432, 0.4649316668510437]</td>\n",
       "      <td>[0.5515786409378052, 0.5622370913624763]</td>\n",
       "    </tr>\n",
       "    <tr>\n",
       "      <th>2</th>\n",
       "      <td>epithelial cell of proximal tubule</td>\n",
       "      <td>13152</td>\n",
       "      <td>0.885052</td>\n",
       "      <td>0.975062</td>\n",
       "      <td>7329</td>\n",
       "      <td>90</td>\n",
       "      <td>9633</td>\n",
       "      <td>3519</td>\n",
       "      <td>3</td>\n",
       "      <td>['ENSMUSG00000030945', 'ENSMUSG00000022613', '...</td>\n",
       "      <td>[0.40984900295734406, 0.3071601241827011, 0.20...</td>\n",
       "      <td>[0.824158564209938, 0.7460954636335373, 0.4970...</td>\n",
       "    </tr>\n",
       "    <tr>\n",
       "      <th>3</th>\n",
       "      <td>kidney connecting tubule epithelial cell</td>\n",
       "      <td>831</td>\n",
       "      <td>0.000000</td>\n",
       "      <td>0.000000</td>\n",
       "      <td>19740</td>\n",
       "      <td>0</td>\n",
       "      <td>831</td>\n",
       "      <td>0</td>\n",
       "      <td>2</td>\n",
       "      <td>['ENSMUSG00000054640', 'ENSMUSG00000028030']</td>\n",
       "      <td>[2.118518114089966, 1.3690828680992126]</td>\n",
       "      <td>[2.376619905233383, 1.4482608661055565]</td>\n",
       "    </tr>\n",
       "    <tr>\n",
       "      <th>4</th>\n",
       "      <td>kidney distal convoluted tubule epithelial cell</td>\n",
       "      <td>4890</td>\n",
       "      <td>0.887445</td>\n",
       "      <td>0.976401</td>\n",
       "      <td>15649</td>\n",
       "      <td>32</td>\n",
       "      <td>3566</td>\n",
       "      <td>1324</td>\n",
       "      <td>2</td>\n",
       "      <td>['ENSMUSG00000031766', 'ENSMUSG00000028017']</td>\n",
       "      <td>[1.1833228468894958, 1.0618106722831726]</td>\n",
       "      <td>[1.6282113194465637, 1.4157971143722534]</td>\n",
       "    </tr>\n",
       "    <tr>\n",
       "      <th>5</th>\n",
       "      <td>kidney collecting duct principal cell</td>\n",
       "      <td>369</td>\n",
       "      <td>0.938741</td>\n",
       "      <td>0.963470</td>\n",
       "      <td>20194</td>\n",
       "      <td>8</td>\n",
       "      <td>158</td>\n",
       "      <td>211</td>\n",
       "      <td>2</td>\n",
       "      <td>['ENSMUSG00000023013', 'ENSMUSG00000004988']</td>\n",
       "      <td>[1.4653971195220947, 1.1409903764724731]</td>\n",
       "      <td>[1.6408644318580627, 1.2931244373321533]</td>\n",
       "    </tr>\n",
       "    <tr>\n",
       "      <th>6</th>\n",
       "      <td>Average</td>\n",
       "      <td>3428</td>\n",
       "      <td>0.638530</td>\n",
       "      <td>0.815839</td>\n",
       "      <td>17120</td>\n",
       "      <td>22</td>\n",
       "      <td>2552</td>\n",
       "      <td>876</td>\n",
       "      <td>-</td>\n",
       "      <td>-</td>\n",
       "      <td>-</td>\n",
       "      <td>-</td>\n",
       "    </tr>\n",
       "  </tbody>\n",
       "</table>\n",
       "</div>"
      ],
      "text/plain": [
       "                                       clusterName clusterSize   f_score  \\\n",
       "0                                 endothelial cell         638  0.223862   \n",
       "1                     renal beta-intercalated cell         691  0.896081   \n",
       "2               epithelial cell of proximal tubule       13152  0.885052   \n",
       "3         kidney connecting tubule epithelial cell         831  0.000000   \n",
       "4  kidney distal convoluted tubule epithelial cell        4890  0.887445   \n",
       "5            kidney collecting duct principal cell         369  0.938741   \n",
       "6                                          Average        3428  0.638530   \n",
       "\n",
       "        PPV     TN  FP    FN    TP marker_count  \\\n",
       "0  1.000000  19933   0   631     7            2   \n",
       "1  0.980100  19876   4   494   197            2   \n",
       "2  0.975062   7329  90  9633  3519            3   \n",
       "3  0.000000  19740   0   831     0            2   \n",
       "4  0.976401  15649  32  3566  1324            2   \n",
       "5  0.963470  20194   8   158   211            2   \n",
       "6  0.815839  17120  22  2552   876            -   \n",
       "\n",
       "                                    NSForest_markers  \\\n",
       "0       ['ENSMUSG00000021759', 'ENSMUSG00000039706']   \n",
       "1       ['ENSMUSG00000028238', 'ENSMUSG00000020566']   \n",
       "2  ['ENSMUSG00000030945', 'ENSMUSG00000022613', '...   \n",
       "3       ['ENSMUSG00000054640', 'ENSMUSG00000028030']   \n",
       "4       ['ENSMUSG00000031766', 'ENSMUSG00000028017']   \n",
       "5       ['ENSMUSG00000023013', 'ENSMUSG00000004988']   \n",
       "6                                                  -   \n",
       "\n",
       "                                  original_threshold  \\\n",
       "0           [0.8481884002685547, 0.7238551378250122]   \n",
       "1           [0.4547166973352432, 0.4649316668510437]   \n",
       "2  [0.40984900295734406, 0.3071601241827011, 0.20...   \n",
       "3            [2.118518114089966, 1.3690828680992126]   \n",
       "4           [1.1833228468894958, 1.0618106722831726]   \n",
       "5           [1.4653971195220947, 1.1409903764724731]   \n",
       "6                                                  -   \n",
       "\n",
       "                                       new_threshold  \n",
       "0            [0.884131882339716, 0.7579623945057392]  \n",
       "1           [0.5515786409378052, 0.5622370913624763]  \n",
       "2  [0.824158564209938, 0.7460954636335373, 0.4970...  \n",
       "3            [2.376619905233383, 1.4482608661055565]  \n",
       "4           [1.6282113194465637, 1.4157971143722534]  \n",
       "5           [1.6408644318580627, 1.2931244373321533]  \n",
       "6                                                  -  "
      ]
     },
     "execution_count": 18,
     "metadata": {},
     "output_type": "execute_result"
    }
   ],
   "source": [
    "new_eval"
   ]
  }
 ],
 "metadata": {
  "kernelspec": {
   "display_name": "Python 3",
   "language": "python",
   "name": "python3"
  },
  "language_info": {
   "codemirror_mode": {
    "name": "ipython",
    "version": 3
   },
   "file_extension": ".py",
   "mimetype": "text/x-python",
   "name": "python",
   "nbconvert_exporter": "python",
   "pygments_lexer": "ipython3",
   "version": "3.8.10"
  }
 },
 "nbformat": 4,
 "nbformat_minor": 2
}
